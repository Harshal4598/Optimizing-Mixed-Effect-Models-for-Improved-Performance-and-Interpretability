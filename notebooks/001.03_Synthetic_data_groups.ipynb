{
 "cells": [
  {
   "cell_type": "code",
   "execution_count": 7,
   "id": "c6939db6",
   "metadata": {},
   "outputs": [],
   "source": [
    "import numpy as np\n",
    "import pandas as pd\n",
    "import random\n",
    "import string\n",
    "from sklearn.metrics import accuracy_score\n",
    "from sklearn.metrics import confusion_matrix\n",
    "from sklearn.metrics import ConfusionMatrixDisplay\n",
    "from sklearn.metrics import roc_curve\n",
    "from sklearn.metrics import RocCurveDisplay\n",
    "from sklearn.metrics import mean_squared_error\n",
    "\n",
    "\n",
    "from sklearn.model_selection import train_test_split\n",
    "from sklearn.linear_model import LinearRegression\n",
    "from sklearn.preprocessing import OrdinalEncoder\n",
    "\n",
    "from sklearn.tree import DecisionTreeClassifier, DecisionTreeRegressor\n",
    "from sklearn.preprocessing import MinMaxScaler\n",
    "from sklearn.pipeline import make_pipeline\n",
    "from tqdm import tqdm"
   ]
  },
  {
   "cell_type": "code",
   "execution_count": 2,
   "id": "199649ec",
   "metadata": {},
   "outputs": [
    {
     "name": "stdout",
     "output_type": "stream",
     "text": [
      "          0         1         2         3         4         5         6  \\\n",
      "0 -0.831822  3.778560 -0.916192 -0.690541 -0.715760 -0.825560 -4.887584   \n",
      "1 -0.066133 -0.440522 -0.436720  0.265878 -0.247026  0.140124  1.030778   \n",
      "2 -0.437458 -1.526773 -0.887492  0.419532 -0.372833  0.013308 -1.389822   \n",
      "3 -0.526035 -0.811048  0.492019  0.420973  1.097153  0.174118  1.016694   \n",
      "4 -0.305225 -0.054340 -1.065114 -1.311836 -0.186971 -0.011333 -0.173507   \n",
      "\n",
      "          7         8         9  Group  Fixed_Effect  Random_Effect    Target  \n",
      "0 -0.783766 -2.016605 -0.067178      0      0.496714      -0.234137  1.860707  \n",
      "1 -0.470042  0.527629  2.099722      0      0.496714       1.579213  1.373105  \n",
      "2 -0.120948 -1.320396  0.722381      0      0.496714       0.767435  4.362660  \n",
      "3  0.698828  0.412293 -2.153343      0      0.496714      -0.469474  0.144428  \n",
      "4  0.010353 -0.125711 -0.609512      0      0.496714       0.542560  2.700925  \n"
     ]
    }
   ],
   "source": [
    "# import numpy as np\n",
    "# import pandas as pd\n",
    "# from sklearn.datasets import make_classification\n",
    "\n",
    "# # Set random seed for reproducibility\n",
    "# np.random.seed(42)\n",
    "\n",
    "# # Define the number of groups and the number of observations per group\n",
    "# num_groups = 5\n",
    "# observations_per_group = 100\n",
    "\n",
    "# # Generate random group labels\n",
    "# group_labels = np.repeat(np.arange(num_groups), observations_per_group)\n",
    "\n",
    "# # Generate random features\n",
    "# X, _ = make_classification(n_samples=observations_per_group * num_groups, n_features=10, random_state=42)\n",
    "\n",
    "# # Generate random fixed effects for each group\n",
    "# group_effects = np.random.randn(num_groups)\n",
    "\n",
    "# # Generate random random effects for each observation within each group\n",
    "# random_effects = np.random.randn(observations_per_group * num_groups)\n",
    "\n",
    "# # Compute the target variable with mixed effects\n",
    "# y = np.dot(X, np.random.randn(X.shape[1])) + group_effects[group_labels] + random_effects\n",
    "\n",
    "# # Create a pandas DataFrame to store the data\n",
    "# data = pd.DataFrame(X)\n",
    "# data['Group'] = group_labels\n",
    "# data['Fixed_Effect'] = group_effects[group_labels]\n",
    "# data['Random_Effect'] = random_effects\n",
    "# data['Target'] = y\n",
    "\n",
    "# # Print the first few rows of the dataset\n",
    "# print(data.head())\n"
   ]
  },
  {
   "cell_type": "code",
   "execution_count": 92,
   "id": "29408a46",
   "metadata": {},
   "outputs": [
    {
     "data": {
      "text/html": [
       "<div>\n",
       "<style scoped>\n",
       "    .dataframe tbody tr th:only-of-type {\n",
       "        vertical-align: middle;\n",
       "    }\n",
       "\n",
       "    .dataframe tbody tr th {\n",
       "        vertical-align: top;\n",
       "    }\n",
       "\n",
       "    .dataframe thead th {\n",
       "        text-align: right;\n",
       "    }\n",
       "</style>\n",
       "<table border=\"1\" class=\"dataframe\">\n",
       "  <thead>\n",
       "    <tr style=\"text-align: right;\">\n",
       "      <th></th>\n",
       "      <th>SchoolID</th>\n",
       "      <th>StudentID</th>\n",
       "      <th>Score</th>\n",
       "      <th>Age</th>\n",
       "      <th>NestedID1</th>\n",
       "      <th>NestedID2</th>\n",
       "      <th>NestedID3</th>\n",
       "      <th>NestedID4</th>\n",
       "      <th>NestedID5</th>\n",
       "      <th>NestedID6</th>\n",
       "      <th>...</th>\n",
       "      <th>NestedID41</th>\n",
       "      <th>NestedID42</th>\n",
       "      <th>NestedID43</th>\n",
       "      <th>NestedID44</th>\n",
       "      <th>NestedID45</th>\n",
       "      <th>NestedID46</th>\n",
       "      <th>NestedID47</th>\n",
       "      <th>NestedID48</th>\n",
       "      <th>NestedID49</th>\n",
       "      <th>NestedID50</th>\n",
       "    </tr>\n",
       "  </thead>\n",
       "  <tbody>\n",
       "    <tr>\n",
       "      <th>0</th>\n",
       "      <td>0</td>\n",
       "      <td>0</td>\n",
       "      <td>-0.091950</td>\n",
       "      <td>17</td>\n",
       "      <td>9</td>\n",
       "      <td>2</td>\n",
       "      <td>1</td>\n",
       "      <td>2</td>\n",
       "      <td>2</td>\n",
       "      <td>6</td>\n",
       "      <td>...</td>\n",
       "      <td>4</td>\n",
       "      <td>3</td>\n",
       "      <td>2</td>\n",
       "      <td>5</td>\n",
       "      <td>8</td>\n",
       "      <td>8</td>\n",
       "      <td>3</td>\n",
       "      <td>3</td>\n",
       "      <td>6</td>\n",
       "      <td>2</td>\n",
       "    </tr>\n",
       "    <tr>\n",
       "      <th>1</th>\n",
       "      <td>0</td>\n",
       "      <td>1</td>\n",
       "      <td>-1.463351</td>\n",
       "      <td>18</td>\n",
       "      <td>1</td>\n",
       "      <td>4</td>\n",
       "      <td>2</td>\n",
       "      <td>3</td>\n",
       "      <td>1</td>\n",
       "      <td>6</td>\n",
       "      <td>...</td>\n",
       "      <td>7</td>\n",
       "      <td>8</td>\n",
       "      <td>7</td>\n",
       "      <td>7</td>\n",
       "      <td>9</td>\n",
       "      <td>9</td>\n",
       "      <td>8</td>\n",
       "      <td>5</td>\n",
       "      <td>8</td>\n",
       "      <td>9</td>\n",
       "    </tr>\n",
       "    <tr>\n",
       "      <th>2</th>\n",
       "      <td>0</td>\n",
       "      <td>2</td>\n",
       "      <td>1.081792</td>\n",
       "      <td>16</td>\n",
       "      <td>4</td>\n",
       "      <td>9</td>\n",
       "      <td>2</td>\n",
       "      <td>8</td>\n",
       "      <td>9</td>\n",
       "      <td>3</td>\n",
       "      <td>...</td>\n",
       "      <td>8</td>\n",
       "      <td>4</td>\n",
       "      <td>1</td>\n",
       "      <td>6</td>\n",
       "      <td>9</td>\n",
       "      <td>5</td>\n",
       "      <td>5</td>\n",
       "      <td>9</td>\n",
       "      <td>7</td>\n",
       "      <td>3</td>\n",
       "    </tr>\n",
       "    <tr>\n",
       "      <th>3</th>\n",
       "      <td>0</td>\n",
       "      <td>3</td>\n",
       "      <td>-0.239325</td>\n",
       "      <td>18</td>\n",
       "      <td>8</td>\n",
       "      <td>8</td>\n",
       "      <td>8</td>\n",
       "      <td>2</td>\n",
       "      <td>2</td>\n",
       "      <td>8</td>\n",
       "      <td>...</td>\n",
       "      <td>7</td>\n",
       "      <td>7</td>\n",
       "      <td>1</td>\n",
       "      <td>3</td>\n",
       "      <td>2</td>\n",
       "      <td>6</td>\n",
       "      <td>1</td>\n",
       "      <td>5</td>\n",
       "      <td>9</td>\n",
       "      <td>6</td>\n",
       "    </tr>\n",
       "    <tr>\n",
       "      <th>4</th>\n",
       "      <td>0</td>\n",
       "      <td>4</td>\n",
       "      <td>-0.491129</td>\n",
       "      <td>15</td>\n",
       "      <td>6</td>\n",
       "      <td>6</td>\n",
       "      <td>3</td>\n",
       "      <td>3</td>\n",
       "      <td>8</td>\n",
       "      <td>2</td>\n",
       "      <td>...</td>\n",
       "      <td>6</td>\n",
       "      <td>9</td>\n",
       "      <td>5</td>\n",
       "      <td>6</td>\n",
       "      <td>7</td>\n",
       "      <td>3</td>\n",
       "      <td>5</td>\n",
       "      <td>8</td>\n",
       "      <td>9</td>\n",
       "      <td>2</td>\n",
       "    </tr>\n",
       "  </tbody>\n",
       "</table>\n",
       "<p>5 rows × 54 columns</p>\n",
       "</div>"
      ],
      "text/plain": [
       "   SchoolID  StudentID     Score  Age  NestedID1  NestedID2  NestedID3  \\\n",
       "0         0          0 -0.091950   17          9          2          1   \n",
       "1         0          1 -1.463351   18          1          4          2   \n",
       "2         0          2  1.081792   16          4          9          2   \n",
       "3         0          3 -0.239325   18          8          8          8   \n",
       "4         0          4 -0.491129   15          6          6          3   \n",
       "\n",
       "   NestedID4  NestedID5  NestedID6  ...  NestedID41  NestedID42  NestedID43  \\\n",
       "0          2          2          6  ...           4           3           2   \n",
       "1          3          1          6  ...           7           8           7   \n",
       "2          8          9          3  ...           8           4           1   \n",
       "3          2          2          8  ...           7           7           1   \n",
       "4          3          8          2  ...           6           9           5   \n",
       "\n",
       "   NestedID44  NestedID45  NestedID46  NestedID47  NestedID48  NestedID49  \\\n",
       "0           5           8           8           3           3           6   \n",
       "1           7           9           9           8           5           8   \n",
       "2           6           9           5           5           9           7   \n",
       "3           3           2           6           1           5           9   \n",
       "4           6           7           3           5           8           9   \n",
       "\n",
       "   NestedID50  \n",
       "0           2  \n",
       "1           9  \n",
       "2           3  \n",
       "3           6  \n",
       "4           2  \n",
       "\n",
       "[5 rows x 54 columns]"
      ]
     },
     "execution_count": 92,
     "metadata": {},
     "output_type": "execute_result"
    }
   ],
   "source": [
    "import numpy as np\n",
    "import pandas as pd\n",
    "\n",
    "# Set the random seed for reproducibility\n",
    "np.random.seed(np.random.randint(0,200, size=1))\n",
    "\n",
    "# Define the number of schools and students\n",
    "num_schools = 20\n",
    "students_per_school = 1000\n",
    "\n",
    "# Generate random school IDs for each student\n",
    "school_ids = np.repeat(np.arange(num_schools), students_per_school)\n",
    "\n",
    "# Generate random student IDs within each school\n",
    "student_ids = np.tile(np.arange(students_per_school), num_schools)\n",
    "\n",
    "# Generate random student scores\n",
    "student_scores = np.random.normal(0, 1, size=num_schools * students_per_school)\n",
    "\n",
    "# Generate random student ages\n",
    "student_ages = np.random.randint(15, 20, size=num_schools * students_per_school)\n",
    "\n",
    "# Generate nested ID columns\n",
    "num_nested_ids = 50  # Number of nested ID columns\n",
    "nested_ids = []\n",
    "for i in range(num_nested_ids):\n",
    "    nested_ids.append(np.random.randint(1, 10, size=num_schools * students_per_school))\n",
    "\n",
    "# Create a DataFrame to store the dataset\n",
    "data = pd.DataFrame({'SchoolID': school_ids, 'StudentID': student_ids, 'Score': student_scores,\n",
    "                     'Age': student_ages})\n",
    "\n",
    "# Add nested ID columns to the DataFrame\n",
    "for i in range(num_nested_ids):\n",
    "    column_name = f'NestedID{i+1}'\n",
    "    data[column_name] = nested_ids[i]\n",
    "\n",
    "# Print the first few rows of the dataset\n",
    "data.head()"
   ]
  },
  {
   "cell_type": "code",
   "execution_count": 83,
   "id": "9f2e4b61",
   "metadata": {},
   "outputs": [
    {
     "data": {
      "text/plain": [
       "(20000, 54)"
      ]
     },
     "execution_count": 83,
     "metadata": {},
     "output_type": "execute_result"
    }
   ],
   "source": [
    "data.shape"
   ]
  },
  {
   "cell_type": "code",
   "execution_count": 84,
   "id": "fbeefdc3",
   "metadata": {},
   "outputs": [],
   "source": [
    "grouping_col = list(f\"NestedID{i}\" for i in range(1,51))\n",
    "grouping_col.append(\"SchoolID\")\n",
    "grouping_col.append(\"StudentID\")"
   ]
  },
  {
   "cell_type": "code",
   "execution_count": 85,
   "id": "0b6960a5",
   "metadata": {},
   "outputs": [
    {
     "data": {
      "text/plain": [
       "270725"
      ]
     },
     "execution_count": 85,
     "metadata": {},
     "output_type": "execute_result"
    }
   ],
   "source": [
    "from itertools import combinations\n",
    "combi = list(combinations(grouping_col, 4))\n",
    "len(combi)"
   ]
  },
  {
   "cell_type": "code",
   "execution_count": 96,
   "id": "a87b59bd",
   "metadata": {},
   "outputs": [
    {
     "name": "stderr",
     "output_type": "stream",
     "text": [
      "270725it [48:42, 92.64it/s] \n"
     ]
    }
   ],
   "source": [
    "accuracyList = []\n",
    "for i, selCol in tqdm(enumerate(combi)):\n",
    "    \n",
    "    X = pd.concat([data[list(selCol)], data.loc[:,\"Age\"]], axis=1)\n",
    "    y = data['Score']\n",
    "\n",
    "    X_train, X_test, y_train, y_test = train_test_split(X, y, test_size=0.33, random_state=42)\n",
    "    pipeline = make_pipeline(MinMaxScaler(), LinearRegression())\n",
    "    pipeline.fit(X_train, y_train)\n",
    "\n",
    "    y_pred = pipeline.predict(X_test)\n",
    "    accuracyList.append(mean_squared_error(y_test, y_pred))"
   ]
  },
  {
   "cell_type": "code",
   "execution_count": 97,
   "id": "7657ce61",
   "metadata": {},
   "outputs": [
    {
     "data": {
      "text/plain": [
       "(('NestedID1', 'NestedID5', 'NestedID27', 'NestedID42'), 1.0301894282343966)"
      ]
     },
     "execution_count": 97,
     "metadata": {},
     "output_type": "execute_result"
    }
   ],
   "source": [
    "idx = accuracyList.index(min(accuracyList))\n",
    "combi[idx], min(accuracyList)"
   ]
  },
  {
   "cell_type": "code",
   "execution_count": 93,
   "id": "91a51a5c",
   "metadata": {},
   "outputs": [],
   "source": [
    "def regression_check(dataset, keep_nested=True):\n",
    "    \n",
    "    if keep_nested==True:\n",
    "        X = data.drop(\"Score\", axis=1)\n",
    "        y = data[\"Score\"]\n",
    "    else:\n",
    "        X = data[[\"StudentID\", \"SchoolID\", \"Age\"]]\n",
    "        y = data[\"Score\"]\n",
    "\n",
    "    X_train, X_test, y_train, y_test = train_test_split(X, y, test_size=0.33, random_state=42)\n",
    "    pipeline = make_pipeline(MinMaxScaler(), LinearRegression())\n",
    "    pipeline.fit(X_train, y_train)\n",
    "\n",
    "    y_pred = pipeline.predict(X_test)\n",
    "    mse = mean_squared_error(y_test, y_pred)\n",
    "    \n",
    "    return y_pred, y_test, mse"
   ]
  },
  {
   "cell_type": "code",
   "execution_count": 100,
   "id": "e6046f9f",
   "metadata": {},
   "outputs": [],
   "source": [
    "pred, test, mse = regression_check(data, keep_nested=False)"
   ]
  },
  {
   "cell_type": "code",
   "execution_count": 101,
   "id": "dd098e27",
   "metadata": {},
   "outputs": [
    {
     "data": {
      "text/plain": [
       "1.0315282539114623"
      ]
     },
     "execution_count": 101,
     "metadata": {},
     "output_type": "execute_result"
    }
   ],
   "source": [
    "mse"
   ]
  },
  {
   "cell_type": "code",
   "execution_count": 103,
   "id": "3e771b4e",
   "metadata": {},
   "outputs": [
    {
     "data": {
      "text/plain": [
       "array([ 0.01378634, -0.00959229,  0.00753968, ...,  0.00574987,\n",
       "        0.01501943,  0.00268776])"
      ]
     },
     "execution_count": 103,
     "metadata": {},
     "output_type": "execute_result"
    }
   ],
   "source": [
    "pred"
   ]
  },
  {
   "cell_type": "code",
   "execution_count": 104,
   "id": "0890218d",
   "metadata": {},
   "outputs": [
    {
     "data": {
      "text/plain": [
       "10650    2.122163\n",
       "2041    -0.052361\n",
       "8668     0.464311\n",
       "1114    -0.264617\n",
       "13902    0.934375\n",
       "           ...   \n",
       "5388     0.266773\n",
       "749     -1.130119\n",
       "611      0.969695\n",
       "13637   -0.577886\n",
       "11617   -0.412139\n",
       "Name: Score, Length: 6600, dtype: float64"
      ]
     },
     "execution_count": 104,
     "metadata": {},
     "output_type": "execute_result"
    }
   ],
   "source": [
    "test"
   ]
  }
 ],
 "metadata": {
  "kernelspec": {
   "display_name": "Python 3 (ipykernel)",
   "language": "python",
   "name": "python3"
  },
  "language_info": {
   "codemirror_mode": {
    "name": "ipython",
    "version": 3
   },
   "file_extension": ".py",
   "mimetype": "text/x-python",
   "name": "python",
   "nbconvert_exporter": "python",
   "pygments_lexer": "ipython3",
   "version": "3.10.4"
  }
 },
 "nbformat": 4,
 "nbformat_minor": 5
}
