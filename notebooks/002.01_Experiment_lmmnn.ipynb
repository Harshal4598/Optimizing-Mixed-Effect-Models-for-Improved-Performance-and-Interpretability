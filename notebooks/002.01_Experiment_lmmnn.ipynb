{
 "cells": [
  {
   "cell_type": "code",
   "execution_count": 9,
   "metadata": {},
   "outputs": [],
   "source": [
    "import time\n",
    "import gc\n",
    "import numpy as np\n",
    "import pandas as pd\n",
    "import matplotlib.pyplot as plt\n",
    "import seaborn as sns\n",
    "\n",
    "from sklearn.model_selection import KFold\n",
    "from sklearn.preprocessing import StandardScaler\n",
    "\n",
    "from lmmnn.nn import reg_nn_ohe_or_ignore, reg_nn_embed, reg_nn_lmm\n",
    "from lmmnn.simulation import Count\n",
    "\n",
    "import tensorflow.keras.backend as K"
   ]
  },
  {
   "cell_type": "code",
   "execution_count": 2,
   "metadata": {
    "scrolled": true
   },
   "outputs": [
    {
     "data": {
      "text/html": [
       "<div>\n",
       "<style scoped>\n",
       "    .dataframe tbody tr th:only-of-type {\n",
       "        vertical-align: middle;\n",
       "    }\n",
       "\n",
       "    .dataframe tbody tr th {\n",
       "        vertical-align: top;\n",
       "    }\n",
       "\n",
       "    .dataframe thead th {\n",
       "        text-align: right;\n",
       "    }\n",
       "</style>\n",
       "<table border=\"1\" class=\"dataframe\">\n",
       "  <thead>\n",
       "    <tr style=\"text-align: right;\">\n",
       "      <th></th>\n",
       "      <th>students</th>\n",
       "      <th>instructors</th>\n",
       "      <th>studage</th>\n",
       "      <th>lectage</th>\n",
       "      <th>service</th>\n",
       "      <th>departments</th>\n",
       "      <th>ratings</th>\n",
       "    </tr>\n",
       "  </thead>\n",
       "  <tbody>\n",
       "    <tr>\n",
       "      <th>0</th>\n",
       "      <td>1</td>\n",
       "      <td>1002</td>\n",
       "      <td>2</td>\n",
       "      <td>2</td>\n",
       "      <td>0</td>\n",
       "      <td>2</td>\n",
       "      <td>5</td>\n",
       "    </tr>\n",
       "    <tr>\n",
       "      <th>1</th>\n",
       "      <td>1</td>\n",
       "      <td>1050</td>\n",
       "      <td>2</td>\n",
       "      <td>1</td>\n",
       "      <td>1</td>\n",
       "      <td>6</td>\n",
       "      <td>2</td>\n",
       "    </tr>\n",
       "    <tr>\n",
       "      <th>2</th>\n",
       "      <td>1</td>\n",
       "      <td>1582</td>\n",
       "      <td>2</td>\n",
       "      <td>2</td>\n",
       "      <td>0</td>\n",
       "      <td>2</td>\n",
       "      <td>5</td>\n",
       "    </tr>\n",
       "    <tr>\n",
       "      <th>3</th>\n",
       "      <td>1</td>\n",
       "      <td>2050</td>\n",
       "      <td>2</td>\n",
       "      <td>2</td>\n",
       "      <td>1</td>\n",
       "      <td>3</td>\n",
       "      <td>3</td>\n",
       "    </tr>\n",
       "    <tr>\n",
       "      <th>4</th>\n",
       "      <td>2</td>\n",
       "      <td>115</td>\n",
       "      <td>2</td>\n",
       "      <td>1</td>\n",
       "      <td>0</td>\n",
       "      <td>5</td>\n",
       "      <td>2</td>\n",
       "    </tr>\n",
       "  </tbody>\n",
       "</table>\n",
       "</div>"
      ],
      "text/plain": [
       "   students  instructors  studage  lectage  service  departments  ratings\n",
       "0         1         1002        2        2        0            2        5\n",
       "1         1         1050        2        1        1            6        2\n",
       "2         1         1582        2        2        0            2        5\n",
       "3         1         2050        2        2        1            3        3\n",
       "4         2          115        2        1        0            5        2"
      ]
     },
     "execution_count": 2,
     "metadata": {},
     "output_type": "execute_result"
    }
   ],
   "source": [
    "data = pd.read_csv(r\"D:\\Notes\\Sem - 6\\Thesis\\Mixed Effect Model\\Lit\\datasets\\InstEval\\InstEval.csv\")\n",
    "data = data.iloc[:, 1:]\n",
    "data = data.rename(columns={'s': 'students','d': 'instructors','dept': 'departments','y': 'ratings'})\n",
    "data.head()"
   ]
  },
  {
   "cell_type": "code",
   "execution_count": 3,
   "metadata": {},
   "outputs": [
    {
     "name": "stdout",
     "output_type": "stream",
     "text": [
      "(73421, 7)\n"
     ]
    },
    {
     "data": {
      "text/html": [
       "<div>\n",
       "<style scoped>\n",
       "    .dataframe tbody tr th:only-of-type {\n",
       "        vertical-align: middle;\n",
       "    }\n",
       "\n",
       "    .dataframe tbody tr th {\n",
       "        vertical-align: top;\n",
       "    }\n",
       "\n",
       "    .dataframe thead th {\n",
       "        text-align: right;\n",
       "    }\n",
       "</style>\n",
       "<table border=\"1\" class=\"dataframe\">\n",
       "  <thead>\n",
       "    <tr style=\"text-align: right;\">\n",
       "      <th></th>\n",
       "      <th>students</th>\n",
       "      <th>instructors</th>\n",
       "      <th>studage</th>\n",
       "      <th>lectage</th>\n",
       "      <th>service</th>\n",
       "      <th>departments</th>\n",
       "      <th>ratings</th>\n",
       "    </tr>\n",
       "  </thead>\n",
       "  <tbody>\n",
       "    <tr>\n",
       "      <th>0</th>\n",
       "      <td>0</td>\n",
       "      <td>524</td>\n",
       "      <td>2</td>\n",
       "      <td>2</td>\n",
       "      <td>0</td>\n",
       "      <td>1</td>\n",
       "      <td>5</td>\n",
       "    </tr>\n",
       "    <tr>\n",
       "      <th>1</th>\n",
       "      <td>0</td>\n",
       "      <td>559</td>\n",
       "      <td>2</td>\n",
       "      <td>1</td>\n",
       "      <td>1</td>\n",
       "      <td>5</td>\n",
       "      <td>2</td>\n",
       "    </tr>\n",
       "    <tr>\n",
       "      <th>2</th>\n",
       "      <td>0</td>\n",
       "      <td>831</td>\n",
       "      <td>2</td>\n",
       "      <td>2</td>\n",
       "      <td>0</td>\n",
       "      <td>1</td>\n",
       "      <td>5</td>\n",
       "    </tr>\n",
       "    <tr>\n",
       "      <th>3</th>\n",
       "      <td>0</td>\n",
       "      <td>1067</td>\n",
       "      <td>2</td>\n",
       "      <td>2</td>\n",
       "      <td>1</td>\n",
       "      <td>2</td>\n",
       "      <td>3</td>\n",
       "    </tr>\n",
       "    <tr>\n",
       "      <th>4</th>\n",
       "      <td>1</td>\n",
       "      <td>61</td>\n",
       "      <td>2</td>\n",
       "      <td>1</td>\n",
       "      <td>0</td>\n",
       "      <td>4</td>\n",
       "      <td>2</td>\n",
       "    </tr>\n",
       "  </tbody>\n",
       "</table>\n",
       "</div>"
      ],
      "text/plain": [
       "   students  instructors  studage  lectage  service  departments  ratings\n",
       "0         0          524        2        2        0            1        5\n",
       "1         0          559        2        1        1            5        2\n",
       "2         0          831        2        2        0            1        5\n",
       "3         0         1067        2        2        1            2        3\n",
       "4         1           61        2        1        0            4        2"
      ]
     },
     "execution_count": 3,
     "metadata": {},
     "output_type": "execute_result"
    }
   ],
   "source": [
    "data['students'] -= 1\n",
    "data['instructors'] = data['instructors'].astype('category').cat.codes\n",
    "data['departments'] = data['departments'].astype('category').cat.codes\n",
    "\n",
    "print(data.shape)\n",
    "data.head()"
   ]
  },
  {
   "cell_type": "code",
   "execution_count": 4,
   "metadata": {},
   "outputs": [
    {
     "name": "stdout",
     "output_type": "stream",
     "text": [
      "Number of students: 2972\n",
      "Number of instructors: 1128\n",
      "Number of departments: 14\n"
     ]
    }
   ],
   "source": [
    "n_cat_students = max(data['students']) + 1\n",
    "n_cat_instructors = max(data['instructors']) + 1\n",
    "n_cat_departments = max(data['departments']) + 1\n",
    "\n",
    "print(\"Number of students:\", n_cat_students)\n",
    "print(\"Number of instructors:\", n_cat_instructors)\n",
    "print(\"Number of departments:\", n_cat_departments)"
   ]
  },
  {
   "cell_type": "code",
   "execution_count": 5,
   "metadata": {},
   "outputs": [],
   "source": [
    "data.rename(columns={'students': 'z0',\n",
    "                     'departments': 'z2',\n",
    "                    'instructors': 'z1'}, inplace=True)"
   ]
  },
  {
   "cell_type": "code",
   "execution_count": 6,
   "metadata": {},
   "outputs": [],
   "source": [
    "mode = 'intercepts'\n",
    "n_sig2bs = 3\n",
    "n_sig2bs_spatial = 0\n",
    "est_cors = []\n",
    "n_neurons = [10, 3]\n",
    "activation = 'relu'\n",
    "dropout = []\n",
    "spatial_embedded_neurons = []\n",
    "n_cats = [n_cat_students, n_cat_instructors, n_cat_departments]\n",
    "dist_matrix = None\n",
    "q_spatial = None\n",
    "x_cols = x_cols = ['studage', 'lectage', 'service']"
   ]
  },
  {
   "cell_type": "code",
   "execution_count": 7,
   "metadata": {},
   "outputs": [],
   "source": [
    "from sklearn.model_selection import train_test_split\n",
    "\n",
    "X, y = data.drop('ratings', axis=1), data['ratings']\n",
    "X_train, X_test, y_train, y_test = train_test_split(X, y, test_size=0.33, random_state=42)"
   ]
  },
  {
   "cell_type": "code",
   "execution_count": 10,
   "metadata": {},
   "outputs": [
    {
     "name": "stdout",
     "output_type": "stream",
     "text": [
      "Epoch 1/200\n",
      "222/222 [==============================] - 3s 10ms/step - loss: 396.7752 - val_loss: 356.8195\n",
      "Epoch 2/200\n",
      "222/222 [==============================] - 2s 10ms/step - loss: 357.8503 - val_loss: 346.9121\n",
      "Epoch 3/200\n",
      "222/222 [==============================] - 3s 12ms/step - loss: 353.4609 - val_loss: 345.1962\n",
      "Epoch 4/200\n",
      "222/222 [==============================] - 3s 13ms/step - loss: 351.5267 - val_loss: 343.5007\n",
      "Epoch 5/200\n",
      "222/222 [==============================] - 3s 15ms/step - loss: 349.7500 - val_loss: 341.9015\n",
      "Epoch 6/200\n",
      "222/222 [==============================] - 3s 13ms/step - loss: 347.9059 - val_loss: 340.2204\n",
      "Epoch 7/200\n",
      "222/222 [==============================] - 3s 15ms/step - loss: 345.9044 - val_loss: 338.2699\n",
      "Epoch 8/200\n",
      "222/222 [==============================] - 3s 15ms/step - loss: 343.5021 - val_loss: 335.6953\n",
      "Epoch 9/200\n",
      "222/222 [==============================] - 3s 15ms/step - loss: 340.4131 - val_loss: 332.7227\n",
      "Epoch 10/200\n",
      "222/222 [==============================] - 3s 14ms/step - loss: 338.1590 - val_loss: 331.7843\n",
      "Epoch 11/200\n",
      "222/222 [==============================] - 3s 15ms/step - loss: 337.6116 - val_loss: 331.7599\n",
      "Epoch 12/200\n",
      "222/222 [==============================] - 3s 13ms/step - loss: 337.5677 - val_loss: 331.7574\n",
      "Epoch 13/200\n",
      "222/222 [==============================] - 3s 15ms/step - loss: 337.5524 - val_loss: 331.7568\n",
      "Epoch 14/200\n",
      "222/222 [==============================] - 3s 14ms/step - loss: 337.5427 - val_loss: 331.7638\n",
      "Epoch 15/200\n",
      "222/222 [==============================] - 3s 15ms/step - loss: 337.5349 - val_loss: 331.7675\n",
      "Epoch 16/200\n",
      "222/222 [==============================] - 3s 15ms/step - loss: 337.5303 - val_loss: 331.7708\n",
      "Epoch 17/200\n",
      "222/222 [==============================] - 3s 15ms/step - loss: 337.5283 - val_loss: 331.7757\n",
      "Epoch 18/200\n",
      "222/222 [==============================] - 3s 13ms/step - loss: 337.5220 - val_loss: 331.7738\n",
      "1538/1538 [==============================] - 3s 2ms/step\n",
      "758/758 [==============================] - 2s 2ms/step\n"
     ]
    },
    {
     "data": {
      "image/png": "[encoded data removed]",
      "text/plain": [
       "<Figure size 432x288 with 1 Axes>"
      ]
     },
     "metadata": {
      "needs_background": "light"
     },
     "output_type": "display_data"
    },
    {
     "name": "stdout",
     "output_type": "stream",
     "text": [
      " finished lmm, mse: 1.45\n"
     ]
    }
   ],
   "source": [
    "def reg_nn(X_train, X_test, y_train, y_test, n_cats, batch=200, epochs=200, patience=5, reg_type='ohe', verbose=False):\n",
    "    start = time.time()\n",
    "    if reg_type == 'lmm':\n",
    "        y_pred, sigmas, _, _, n_epochs = reg_nn_lmm(X_train, X_test, y_train, y_test, n_cats, q_spatial, x_cols, batch, epochs, patience,\n",
    "                                                 n_neurons, dropout, activation,\n",
    "                                                 mode=mode, n_sig2bs=n_sig2bs, n_sig2bs_spatial=n_sig2bs_spatial,\n",
    "                                                 est_cors=est_cors, dist_matrix=dist_matrix,\n",
    "                                                 spatial_embed_neurons=spatial_embedded_neurons, verbose=verbose, log_params=False)\n",
    "    \n",
    "    end = time.time()\n",
    "    gc.collect()\n",
    "    y_pred = np.clip(y_pred, 1, 5)\n",
    "    mse = np.mean((y_pred - y_test)**2)\n",
    "    sns.boxplot(x='y_test', y='y_pred', data=pd.DataFrame({'y_test': y_test, 'y_pred': y_pred}), boxprops=dict(alpha=0.5))\n",
    "    plt.show()\n",
    "    return mse, sigmas, n_epochs, end - start, y_pred\n",
    "\n",
    "mse_lmm, sigmas, n_epochs_lmm, time_lmm, y_pred = reg_nn(X_train, X_test, y_train, y_test, n_cats, reg_type='lmm', verbose=True)\n",
    "print(' finished lmm, mse: %.2f' % (mse_lmm))"
   ]
  },
  {
   "cell_type": "markdown",
   "metadata": {},
   "source": [
    "# ---------------------------------------------------------------"
   ]
  }
 ],
 "metadata": {
  "kernelspec": {
   "display_name": "Python 3 (ipykernel)",
   "language": "python",
   "name": "python3"
  },
  "language_info": {
   "codemirror_mode": {
    "name": "ipython",
    "version": 3
   },
   "file_extension": ".py",
   "mimetype": "text/x-python",
   "name": "python",
   "nbconvert_exporter": "python",
   "pygments_lexer": "ipython3",
   "version": "3.10.4"
  }
 },
 "nbformat": 4,
 "nbformat_minor": 2
}
