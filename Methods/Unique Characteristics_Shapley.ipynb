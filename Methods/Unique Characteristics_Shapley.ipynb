{
 "cells": [
  {
   "cell_type": "markdown",
   "id": "2c399721-9bd1-4b05-a487-ead2cf8c4b49",
   "metadata": {},
   "source": [
    "## Unique Characteristics: Using Shapley Values"
   ]
  },
  {
   "cell_type": "code",
   "execution_count": 1,
   "id": "29b38992",
   "metadata": {},
   "outputs": [],
   "source": [
    "import os\n",
    "os.chdir(\"..\")"
   ]
  },
  {
   "cell_type": "code",
   "execution_count": 2,
   "id": "2139ccd8",
   "metadata": {},
   "outputs": [
    {
     "name": "stderr",
     "output_type": "stream",
     "text": [
      "Using `tqdm.autonotebook.tqdm` in notebook mode. Use `tqdm.tqdm` instead to force console mode (e.g. in jupyter console)\n"
     ]
    },
    {
     "name": "stdout",
     "output_type": "stream",
     "text": [
      "WARNING:tensorflow:From C:\\Users\\htals\\AppData\\Roaming\\Python\\Python311\\site-packages\\keras\\src\\losses.py:2976: The name tf.losses.sparse_softmax_cross_entropy is deprecated. Please use tf.compat.v1.losses.sparse_softmax_cross_entropy instead.\n",
      "\n",
      "WARNING:tensorflow:From C:\\Users\\htals\\AppData\\Roaming\\Python\\Python311\\site-packages\\tensorflow_probability\\python\\internal\\backend\\numpy\\_utils.py:48: The name tf.logging.TaskLevelStatusMessage is deprecated. Please use tf.compat.v1.logging.TaskLevelStatusMessage instead.\n",
      "\n"
     ]
    },
    {
     "name": "stderr",
     "output_type": "stream",
     "text": [
      "WARNING  [module_wrapper.py:149] From C:\\Users\\htals\\AppData\\Roaming\\Python\\Python311\\site-packages\\tensorflow_probability\\python\\internal\\backend\\numpy\\_utils.py:48: The name tf.logging.TaskLevelStatusMessage is deprecated. Please use tf.compat.v1.logging.TaskLevelStatusMessage instead.\n",
      "\n"
     ]
    },
    {
     "name": "stdout",
     "output_type": "stream",
     "text": [
      "WARNING:tensorflow:From C:\\Users\\htals\\AppData\\Roaming\\Python\\Python311\\site-packages\\tensorflow_probability\\python\\internal\\backend\\numpy\\_utils.py:48: The name tf.control_flow_v2_enabled is deprecated. Please use tf.compat.v1.control_flow_v2_enabled instead.\n",
      "\n"
     ]
    },
    {
     "name": "stderr",
     "output_type": "stream",
     "text": [
      "WARNING  [module_wrapper.py:149] From C:\\Users\\htals\\AppData\\Roaming\\Python\\Python311\\site-packages\\tensorflow_probability\\python\\internal\\backend\\numpy\\_utils.py:48: The name tf.control_flow_v2_enabled is deprecated. Please use tf.compat.v1.control_flow_v2_enabled instead.\n",
      "\n",
      "\n",
      "\n",
      "TensorFlow Addons (TFA) has ended development and introduction of new features.\n",
      "TFA has entered a minimal maintenance and release mode until a planned end of life in May 2024.\n",
      "Please modify downstream libraries to take dependencies from other repositories in our TensorFlow community (e.g. Keras, Keras-CV, and Keras-NLP). \n",
      "\n",
      "For more information see: https://github.com/tensorflow/addons/issues/2807 \n",
      "\n",
      "Tensorflow Addons supports using Python ops for all Tensorflow versions above or equal to 2.12.0 and strictly below 2.15.0 (nightly versions are not supported). \n",
      " The versions of TensorFlow you are currently using is 2.15.0 and is not supported. \n",
      "Some things might work, some things might not.\n",
      "If you were to encounter a bug, do not file an issue.\n",
      "If you want to make sure you're using a tested and supported configuration, either change the TensorFlow version or the TensorFlow Addons's version. \n",
      "You can find the compatibility matrix in TensorFlow Addon's readme:\n",
      "https://github.com/tensorflow/addons\n"
     ]
    },
    {
     "name": "stdout",
     "output_type": "stream",
     "text": [
      "WARNING:tensorflow:From C:\\Users\\htals\\AppData\\Roaming\\Python\\Python311\\site-packages\\keras\\src\\utils\\tf_utils.py:585: The name tf.executing_eagerly_outside_functions is deprecated. Please use tf.compat.v1.executing_eagerly_outside_functions instead.\n",
      "\n"
     ]
    },
    {
     "name": "stderr",
     "output_type": "stream",
     "text": [
      "WARNING  [module_wrapper.py:149] From C:\\Users\\htals\\AppData\\Roaming\\Python\\Python311\\site-packages\\keras\\src\\utils\\tf_utils.py:585: The name tf.executing_eagerly_outside_functions is deprecated. Please use tf.compat.v1.executing_eagerly_outside_functions instead.\n",
      "\n",
      "WARNING  [optimizer.py:123] `lr` is deprecated in Keras optimizer, please use `learning_rate` or use the legacy optimizer, e.g.,tf.keras.optimizers.legacy.Adam.\n",
      "WARNING  [optimizer.py:123] `lr` is deprecated in Keras optimizer, please use `learning_rate` or use the legacy optimizer, e.g.,tf.keras.optimizers.legacy.Adam.\n",
      "The `lr` argument is deprecated, use `learning_rate` instead.\n"
     ]
    }
   ],
   "source": [
    "import time\n",
    "import pandas as pd\n",
    "import numpy as np\n",
    "import matplotlib.pyplot as plt\n",
    "import seaborn as sns\n",
    "import shap\n",
    "from itertools import product\n",
    "from sklearn.ensemble import RandomForestRegressor\n",
    "from shap import TreeExplainer, Explanation\n",
    "from shap.plots import waterfall\n",
    "from sklearn.decomposition import PCA\n",
    "from sklearn.cluster import KMeans\n",
    "from kneed import KneeLocator\n",
    "\n",
    "from utils import synthetic_data_generation as sd\n",
    "from utils.Thesis_models import *\n",
    "from utils import Thesis_viz as viz"
   ]
  },
  {
   "cell_type": "code",
   "execution_count": 3,
   "id": "7847ce3b",
   "metadata": {},
   "outputs": [],
   "source": [
    "def run_model(model, all_args):\n",
    "    arg_names = model.__code__.co_varnames[:model.__code__.co_argcount]\n",
    "    model_args = {k: all_args[k] for k in arg_names if k in all_args}\n",
    "    return model(**model_args)\n",
    "\n",
    "def get_reduced_data(label_df, column_break):\n",
    "    \n",
    "    zone_indices = {zone : list(label_df[label_df[column_break] == zone].index) \\\n",
    "                                                for zone in np.unique(label_df[column_break])}\n",
    "    mapping_dict = {value: key for key, values in zone_indices.items() for value in values}\n",
    "    data = df.copy()\n",
    "    data['gE_new'] = df['gV'].map(mapping_dict)\n",
    "    \n",
    "    return data"
   ]
  },
  {
   "cell_type": "markdown",
   "id": "2ad23433-b090-4cd0-a0e5-765a1b08ac51",
   "metadata": {},
   "source": [
    "### Synthetic data parameters"
   ]
  },
  {
   "cell_type": "code",
   "execution_count": 4,
   "id": "27911394-ef2f-4005-9ad7-ace693475e5b",
   "metadata": {},
   "outputs": [],
   "source": [
    "seed = 50\n",
    "mode = 'both'\n",
    "effective_groups = 5\n",
    "visible_groups = 200\n",
    "number_of_contineous_features = 5\n",
    "\n",
    "# random_effects_distribution = 'normal'; re_intercept = (0,5) ; re_slope = (0,5)\n",
    "random_effects_distribution = 'linspace'; re_intercept = (-10,10) ; re_slope = (-10,10)\n",
    "\n",
    "# error_type = 'on_group' ; re_error = (0,3)\n",
    "error_type = 'on_target' ; re_error = (0,3)\n",
    "\n",
    "shuffle_groups = False"
   ]
  },
  {
   "cell_type": "markdown",
   "id": "29ad8000-8726-4b3a-b0a7-acc5ae6d20e1",
   "metadata": {},
   "source": [
    "### Synthetic data generation"
   ]
  },
  {
   "cell_type": "code",
   "execution_count": 5,
   "id": "84c642df",
   "metadata": {},
   "outputs": [
    {
     "data": {
      "text/html": [
       "<div>\n",
       "<style scoped>\n",
       "    .dataframe tbody tr th:only-of-type {\n",
       "        vertical-align: middle;\n",
       "    }\n",
       "\n",
       "    .dataframe tbody tr th {\n",
       "        vertical-align: top;\n",
       "    }\n",
       "\n",
       "    .dataframe thead th {\n",
       "        text-align: right;\n",
       "    }\n",
       "</style>\n",
       "<table border=\"1\" class=\"dataframe\">\n",
       "  <thead>\n",
       "    <tr style=\"text-align: right;\">\n",
       "      <th></th>\n",
       "      <th>f0</th>\n",
       "      <th>f1</th>\n",
       "      <th>f2</th>\n",
       "      <th>f3</th>\n",
       "      <th>f4</th>\n",
       "      <th>gE</th>\n",
       "      <th>gV</th>\n",
       "      <th>y</th>\n",
       "    </tr>\n",
       "  </thead>\n",
       "  <tbody>\n",
       "    <tr>\n",
       "      <th>0</th>\n",
       "      <td>-0.010797</td>\n",
       "      <td>-0.543834</td>\n",
       "      <td>-0.489052</td>\n",
       "      <td>-0.207340</td>\n",
       "      <td>-0.245370</td>\n",
       "      <td>0</td>\n",
       "      <td>0</td>\n",
       "      <td>-3.695253</td>\n",
       "    </tr>\n",
       "    <tr>\n",
       "      <th>1</th>\n",
       "      <td>0.993148</td>\n",
       "      <td>-0.183606</td>\n",
       "      <td>0.543788</td>\n",
       "      <td>0.521073</td>\n",
       "      <td>-0.379981</td>\n",
       "      <td>0</td>\n",
       "      <td>0</td>\n",
       "      <td>-23.659988</td>\n",
       "    </tr>\n",
       "    <tr>\n",
       "      <th>2</th>\n",
       "      <td>-0.306918</td>\n",
       "      <td>-0.296470</td>\n",
       "      <td>-0.709066</td>\n",
       "      <td>0.945329</td>\n",
       "      <td>0.818357</td>\n",
       "      <td>0</td>\n",
       "      <td>0</td>\n",
       "      <td>-16.675451</td>\n",
       "    </tr>\n",
       "    <tr>\n",
       "      <th>3</th>\n",
       "      <td>0.119914</td>\n",
       "      <td>-0.372819</td>\n",
       "      <td>0.776400</td>\n",
       "      <td>0.349146</td>\n",
       "      <td>-0.217825</td>\n",
       "      <td>0</td>\n",
       "      <td>0</td>\n",
       "      <td>-21.283745</td>\n",
       "    </tr>\n",
       "    <tr>\n",
       "      <th>4</th>\n",
       "      <td>0.014368</td>\n",
       "      <td>0.048207</td>\n",
       "      <td>0.856002</td>\n",
       "      <td>0.142746</td>\n",
       "      <td>0.336675</td>\n",
       "      <td>0</td>\n",
       "      <td>0</td>\n",
       "      <td>-17.754629</td>\n",
       "    </tr>\n",
       "    <tr>\n",
       "      <th>...</th>\n",
       "      <td>...</td>\n",
       "      <td>...</td>\n",
       "      <td>...</td>\n",
       "      <td>...</td>\n",
       "      <td>...</td>\n",
       "      <td>...</td>\n",
       "      <td>...</td>\n",
       "      <td>...</td>\n",
       "    </tr>\n",
       "    <tr>\n",
       "      <th>995</th>\n",
       "      <td>-0.033881</td>\n",
       "      <td>0.289258</td>\n",
       "      <td>-0.238024</td>\n",
       "      <td>-0.035100</td>\n",
       "      <td>-0.829667</td>\n",
       "      <td>4</td>\n",
       "      <td>199</td>\n",
       "      <td>-2.581987</td>\n",
       "    </tr>\n",
       "    <tr>\n",
       "      <th>996</th>\n",
       "      <td>-0.738472</td>\n",
       "      <td>0.534579</td>\n",
       "      <td>0.588378</td>\n",
       "      <td>0.741214</td>\n",
       "      <td>-0.074996</td>\n",
       "      <td>4</td>\n",
       "      <td>199</td>\n",
       "      <td>24.790728</td>\n",
       "    </tr>\n",
       "    <tr>\n",
       "      <th>997</th>\n",
       "      <td>-0.348035</td>\n",
       "      <td>0.139808</td>\n",
       "      <td>-0.035477</td>\n",
       "      <td>0.023636</td>\n",
       "      <td>0.497246</td>\n",
       "      <td>4</td>\n",
       "      <td>199</td>\n",
       "      <td>11.455646</td>\n",
       "    </tr>\n",
       "    <tr>\n",
       "      <th>998</th>\n",
       "      <td>-0.073908</td>\n",
       "      <td>-0.417275</td>\n",
       "      <td>0.667721</td>\n",
       "      <td>-0.814868</td>\n",
       "      <td>-0.946318</td>\n",
       "      <td>4</td>\n",
       "      <td>199</td>\n",
       "      <td>0.056477</td>\n",
       "    </tr>\n",
       "    <tr>\n",
       "      <th>999</th>\n",
       "      <td>-0.601141</td>\n",
       "      <td>0.024799</td>\n",
       "      <td>0.841575</td>\n",
       "      <td>0.816472</td>\n",
       "      <td>0.056941</td>\n",
       "      <td>4</td>\n",
       "      <td>199</td>\n",
       "      <td>24.490959</td>\n",
       "    </tr>\n",
       "  </tbody>\n",
       "</table>\n",
       "<p>1000 rows × 8 columns</p>\n",
       "</div>"
      ],
      "text/plain": [
       "           f0        f1        f2        f3        f4  gE   gV          y\n",
       "0   -0.010797 -0.543834 -0.489052 -0.207340 -0.245370   0    0  -3.695253\n",
       "1    0.993148 -0.183606  0.543788  0.521073 -0.379981   0    0 -23.659988\n",
       "2   -0.306918 -0.296470 -0.709066  0.945329  0.818357   0    0 -16.675451\n",
       "3    0.119914 -0.372819  0.776400  0.349146 -0.217825   0    0 -21.283745\n",
       "4    0.014368  0.048207  0.856002  0.142746  0.336675   0    0 -17.754629\n",
       "..        ...       ...       ...       ...       ...  ..  ...        ...\n",
       "995 -0.033881  0.289258 -0.238024 -0.035100 -0.829667   4  199  -2.581987\n",
       "996 -0.738472  0.534579  0.588378  0.741214 -0.074996   4  199  24.790728\n",
       "997 -0.348035  0.139808 -0.035477  0.023636  0.497246   4  199  11.455646\n",
       "998 -0.073908 -0.417275  0.667721 -0.814868 -0.946318   4  199   0.056477\n",
       "999 -0.601141  0.024799  0.841575  0.816472  0.056941   4  199  24.490959\n",
       "\n",
       "[1000 rows x 8 columns]"
      ]
     },
     "execution_count": 5,
     "metadata": {},
     "output_type": "execute_result"
    }
   ],
   "source": [
    "df,_ = sd.create_data(\n",
    "    n = 1000,\n",
    "    n_effective_groups = effective_groups,\n",
    "    n_visible_groups = visible_groups,\n",
    "    n_contineous_features = 5,\n",
    "    mode = mode,\n",
    "    fixed_slope = (0, 1),\n",
    "    fixed_intercept = 0,\n",
    "    fixed_error=(0, 1),\n",
    "    random_effects_distribution = random_effects_distribution,\n",
    "    re_intercept = (-10, 10),\n",
    "    re_slope = (-10, 10),\n",
    "    error_type = error_type,\n",
    "    re_error = (0, 3),\n",
    "    random_seed = seed,\n",
    "    shuffle_groups = shuffle_groups,\n",
    "    show_random_effects = False\n",
    ")\n",
    "df"
   ]
  },
  {
   "cell_type": "markdown",
   "id": "0e4988fd-56b7-45b8-9386-c64388b85cab",
   "metadata": {},
   "source": [
    "### Choose a model"
   ]
  },
  {
   "cell_type": "code",
   "execution_count": 6,
   "id": "240caed2",
   "metadata": {},
   "outputs": [],
   "source": [
    "# [MixedLM, LMMNN, LinearOHE, MERForest, ARMED]\n",
    "Model = MERForest"
   ]
  },
  {
   "cell_type": "markdown",
   "id": "5ae02bfc-cf79-4edc-bcd7-9e727d25d38b",
   "metadata": {},
   "source": [
    "### Model Performance with Effective Groups and Visible Groups"
   ]
  },
  {
   "cell_type": "code",
   "execution_count": 7,
   "id": "75c2f377",
   "metadata": {},
   "outputs": [
    {
     "name": "stdout",
     "output_type": "stream",
     "text": [
      "MSE_Effective_groups:  21.413620088954556\n",
      "MSE_Visible_groups:  26.022955556772693\n"
     ]
    }
   ],
   "source": [
    "mse_with_Effective_groups = run_model(Model, {'df': df,'mode':mode,'to_drop':'gV'})[0]\n",
    "mse_with_Visible_groups   = run_model(Model, {'df': df,'mode':mode,'to_drop':'gE'})[0]\n",
    "print(\"MSE_Effective_groups: \", mse_with_Effective_groups)\n",
    "print(\"MSE_Visible_groups: \", mse_with_Visible_groups)"
   ]
  },
  {
   "cell_type": "markdown",
   "id": "3ecf263e-d22a-4ac5-93f8-77554466e226",
   "metadata": {},
   "source": [
    "### Using Shap Explainer, calcualting mean absolute shapley values per each group"
   ]
  },
  {
   "cell_type": "code",
   "execution_count": 8,
   "id": "3e79f61d",
   "metadata": {},
   "outputs": [],
   "source": [
    "start = time.time()"
   ]
  },
  {
   "cell_type": "code",
   "execution_count": 9,
   "id": "225936ef",
   "metadata": {},
   "outputs": [
    {
     "data": {
      "text/html": [
       "<div>\n",
       "<style scoped>\n",
       "    .dataframe tbody tr th:only-of-type {\n",
       "        vertical-align: middle;\n",
       "    }\n",
       "\n",
       "    .dataframe tbody tr th {\n",
       "        vertical-align: top;\n",
       "    }\n",
       "\n",
       "    .dataframe thead th {\n",
       "        text-align: right;\n",
       "    }\n",
       "</style>\n",
       "<table border=\"1\" class=\"dataframe\">\n",
       "  <thead>\n",
       "    <tr style=\"text-align: right;\">\n",
       "      <th></th>\n",
       "      <th>f0</th>\n",
       "      <th>f1</th>\n",
       "      <th>f2</th>\n",
       "      <th>f3</th>\n",
       "      <th>f4</th>\n",
       "      <th>gV</th>\n",
       "    </tr>\n",
       "  </thead>\n",
       "  <tbody>\n",
       "    <tr>\n",
       "      <th>0</th>\n",
       "      <td>1.632057</td>\n",
       "      <td>1.701049</td>\n",
       "      <td>0.501605</td>\n",
       "      <td>1.181953</td>\n",
       "      <td>0.467046</td>\n",
       "      <td>13.137445</td>\n",
       "    </tr>\n",
       "    <tr>\n",
       "      <th>1</th>\n",
       "      <td>2.771455</td>\n",
       "      <td>3.226449</td>\n",
       "      <td>0.401699</td>\n",
       "      <td>0.858258</td>\n",
       "      <td>2.013648</td>\n",
       "      <td>14.473501</td>\n",
       "    </tr>\n",
       "    <tr>\n",
       "      <th>2</th>\n",
       "      <td>2.398909</td>\n",
       "      <td>3.182155</td>\n",
       "      <td>0.228368</td>\n",
       "      <td>0.666448</td>\n",
       "      <td>1.715078</td>\n",
       "      <td>11.549379</td>\n",
       "    </tr>\n",
       "    <tr>\n",
       "      <th>3</th>\n",
       "      <td>2.439554</td>\n",
       "      <td>1.836702</td>\n",
       "      <td>0.553294</td>\n",
       "      <td>0.856906</td>\n",
       "      <td>1.388152</td>\n",
       "      <td>11.489360</td>\n",
       "    </tr>\n",
       "    <tr>\n",
       "      <th>4</th>\n",
       "      <td>2.240424</td>\n",
       "      <td>3.136390</td>\n",
       "      <td>0.486461</td>\n",
       "      <td>0.980074</td>\n",
       "      <td>1.751232</td>\n",
       "      <td>8.082786</td>\n",
       "    </tr>\n",
       "    <tr>\n",
       "      <th>...</th>\n",
       "      <td>...</td>\n",
       "      <td>...</td>\n",
       "      <td>...</td>\n",
       "      <td>...</td>\n",
       "      <td>...</td>\n",
       "      <td>...</td>\n",
       "    </tr>\n",
       "    <tr>\n",
       "      <th>195</th>\n",
       "      <td>1.046365</td>\n",
       "      <td>0.392991</td>\n",
       "      <td>2.238604</td>\n",
       "      <td>2.209362</td>\n",
       "      <td>2.436765</td>\n",
       "      <td>12.803826</td>\n",
       "    </tr>\n",
       "    <tr>\n",
       "      <th>196</th>\n",
       "      <td>1.374333</td>\n",
       "      <td>0.368371</td>\n",
       "      <td>2.976715</td>\n",
       "      <td>2.626367</td>\n",
       "      <td>2.786162</td>\n",
       "      <td>10.536647</td>\n",
       "    </tr>\n",
       "    <tr>\n",
       "      <th>197</th>\n",
       "      <td>1.178245</td>\n",
       "      <td>0.320899</td>\n",
       "      <td>2.177731</td>\n",
       "      <td>3.117133</td>\n",
       "      <td>3.462608</td>\n",
       "      <td>7.817194</td>\n",
       "    </tr>\n",
       "    <tr>\n",
       "      <th>198</th>\n",
       "      <td>0.715211</td>\n",
       "      <td>0.302619</td>\n",
       "      <td>2.540248</td>\n",
       "      <td>3.459787</td>\n",
       "      <td>2.099346</td>\n",
       "      <td>13.520354</td>\n",
       "    </tr>\n",
       "    <tr>\n",
       "      <th>199</th>\n",
       "      <td>0.837627</td>\n",
       "      <td>0.245586</td>\n",
       "      <td>2.725680</td>\n",
       "      <td>2.920473</td>\n",
       "      <td>2.409182</td>\n",
       "      <td>10.997777</td>\n",
       "    </tr>\n",
       "  </tbody>\n",
       "</table>\n",
       "<p>200 rows × 6 columns</p>\n",
       "</div>"
      ],
      "text/plain": [
       "           f0        f1        f2        f3        f4         gV\n",
       "0    1.632057  1.701049  0.501605  1.181953  0.467046  13.137445\n",
       "1    2.771455  3.226449  0.401699  0.858258  2.013648  14.473501\n",
       "2    2.398909  3.182155  0.228368  0.666448  1.715078  11.549379\n",
       "3    2.439554  1.836702  0.553294  0.856906  1.388152  11.489360\n",
       "4    2.240424  3.136390  0.486461  0.980074  1.751232   8.082786\n",
       "..        ...       ...       ...       ...       ...        ...\n",
       "195  1.046365  0.392991  2.238604  2.209362  2.436765  12.803826\n",
       "196  1.374333  0.368371  2.976715  2.626367  2.786162  10.536647\n",
       "197  1.178245  0.320899  2.177731  3.117133  3.462608   7.817194\n",
       "198  0.715211  0.302619  2.540248  3.459787  2.099346  13.520354\n",
       "199  0.837627  0.245586  2.725680  2.920473  2.409182  10.997777\n",
       "\n",
       "[200 rows x 6 columns]"
      ]
     },
     "execution_count": 9,
     "metadata": {},
     "output_type": "execute_result"
    }
   ],
   "source": [
    "shap_df = pd.DataFrame([])\n",
    "\n",
    "X = df.drop(['gE','y'],axis=1)\n",
    "y = df['y']\n",
    "model = RandomForestRegressor()\n",
    "model.fit(X, y)\n",
    "explainer = TreeExplainer(model)\n",
    "\n",
    "for i in range(len(df.gV.unique())):\n",
    "    \n",
    "    sv = explainer(X[X.gV == i])\n",
    "    exp = Explanation(sv.values, sv.base_values, data=X[X.gV == i].values, feature_names=X.columns)\n",
    "    shapley_values = pd.DataFrame(sv.values, columns=X.columns)\n",
    "    \n",
    "    for col in [col for col in shapley_values.columns]:\n",
    "        \n",
    "        shap_df.at[i,col] = np.mean(np.absolute(shapley_values[col]))\n",
    "        \n",
    "shap_df"
   ]
  },
  {
   "cell_type": "markdown",
   "id": "649cc6ba-0f03-4fd9-be5d-00c77663b57e",
   "metadata": {},
   "source": [
    "### Clustering with KMeans"
   ]
  },
  {
   "cell_type": "code",
   "execution_count": 10,
   "id": "8a441dda-2488-4ce5-aeaa-93587fb1282f",
   "metadata": {},
   "outputs": [],
   "source": [
    "K_range = range(2, 11)"
   ]
  },
  {
   "cell_type": "code",
   "execution_count": 11,
   "id": "7e5701be",
   "metadata": {},
   "outputs": [],
   "source": [
    "X = np.array(shap_df.loc[:,[col for col in shap_df.columns if not col.startswith('g')]])\n",
    "pca = PCA(n_components=2)\n",
    "pca.fit(X)\n",
    "\n",
    "X_transformed = pca.transform(X)\n",
    "pca_df = pd.DataFrame(X_transformed, columns = [f'pca_'+str(i) for i in range(X_transformed.shape[1])])\n",
    "X = np.array(pca_df)\n",
    "\n",
    "for k in K_range:\n",
    "    \n",
    "    kmeans = KMeans(n_clusters= k, random_state=42)\n",
    "    labels = kmeans.fit_predict(X)\n",
    "    pca_df['K-'+str(k)] = labels"
   ]
  },
  {
   "cell_type": "code",
   "execution_count": 12,
   "id": "0f6e371b",
   "metadata": {},
   "outputs": [],
   "source": [
    "res = pd.DataFrame([])\n",
    "\n",
    "for itr, i in enumerate([col for col in pca_df.columns if col.startswith('K')]):\n",
    "       \n",
    "    reduced_df = get_reduced_data(pca_df, i)\n",
    "    reduced_df.drop(['gE','gV'], axis=1, inplace=True)\n",
    "    \n",
    "    try:\n",
    "        test_mse = run_model(Model, {'df': reduced_df,'mode':mode})[0]\n",
    "        res.at[itr, 'name'] = i\n",
    "        res.at[itr, 'test_mse'] = test_mse\n",
    "        \n",
    "    except np.linalg.LinAlgError: pass"
   ]
  },
  {
   "cell_type": "code",
   "execution_count": 13,
   "id": "296c760c",
   "metadata": {},
   "outputs": [
    {
     "data": {
      "text/html": [
       "<div>\n",
       "<style scoped>\n",
       "    .dataframe tbody tr th:only-of-type {\n",
       "        vertical-align: middle;\n",
       "    }\n",
       "\n",
       "    .dataframe tbody tr th {\n",
       "        vertical-align: top;\n",
       "    }\n",
       "\n",
       "    .dataframe thead th {\n",
       "        text-align: right;\n",
       "    }\n",
       "</style>\n",
       "<table border=\"1\" class=\"dataframe\">\n",
       "  <thead>\n",
       "    <tr style=\"text-align: right;\">\n",
       "      <th></th>\n",
       "      <th>name</th>\n",
       "      <th>test_mse</th>\n",
       "    </tr>\n",
       "  </thead>\n",
       "  <tbody>\n",
       "    <tr>\n",
       "      <th>0</th>\n",
       "      <td>K-2</td>\n",
       "      <td>51.624727</td>\n",
       "    </tr>\n",
       "    <tr>\n",
       "      <th>1</th>\n",
       "      <td>K-3</td>\n",
       "      <td>43.017663</td>\n",
       "    </tr>\n",
       "    <tr>\n",
       "      <th>2</th>\n",
       "      <td>K-4</td>\n",
       "      <td>26.625561</td>\n",
       "    </tr>\n",
       "    <tr>\n",
       "      <th>3</th>\n",
       "      <td>K-5</td>\n",
       "      <td>24.150201</td>\n",
       "    </tr>\n",
       "    <tr>\n",
       "      <th>4</th>\n",
       "      <td>K-6</td>\n",
       "      <td>23.253176</td>\n",
       "    </tr>\n",
       "    <tr>\n",
       "      <th>5</th>\n",
       "      <td>K-7</td>\n",
       "      <td>29.074783</td>\n",
       "    </tr>\n",
       "    <tr>\n",
       "      <th>6</th>\n",
       "      <td>K-8</td>\n",
       "      <td>25.279870</td>\n",
       "    </tr>\n",
       "    <tr>\n",
       "      <th>7</th>\n",
       "      <td>K-9</td>\n",
       "      <td>41.147606</td>\n",
       "    </tr>\n",
       "    <tr>\n",
       "      <th>8</th>\n",
       "      <td>K-10</td>\n",
       "      <td>31.766979</td>\n",
       "    </tr>\n",
       "  </tbody>\n",
       "</table>\n",
       "</div>"
      ],
      "text/plain": [
       "   name   test_mse\n",
       "0   K-2  51.624727\n",
       "1   K-3  43.017663\n",
       "2   K-4  26.625561\n",
       "3   K-5  24.150201\n",
       "4   K-6  23.253176\n",
       "5   K-7  29.074783\n",
       "6   K-8  25.279870\n",
       "7   K-9  41.147606\n",
       "8  K-10  31.766979"
      ]
     },
     "execution_count": 13,
     "metadata": {},
     "output_type": "execute_result"
    }
   ],
   "source": [
    "res"
   ]
  },
  {
   "cell_type": "code",
   "execution_count": 14,
   "id": "dddfddb1",
   "metadata": {},
   "outputs": [
    {
     "data": {
      "image/png": "[encoded data removed]",
      "text/plain": [
       "<Figure size 700x500 with 1 Axes>"
      ]
     },
     "metadata": {},
     "output_type": "display_data"
    }
   ],
   "source": [
    "fig, ax = plt.subplots(figsize = (7,5), dpi = 100)\n",
    "results = res.copy()\n",
    "results.reset_index(drop=True, inplace=True)\n",
    "\n",
    "try:\n",
    "    kn = KneeLocator(results.index, results['test_mse'], curve='convex', direction='decreasing')\n",
    "    plt.axvline(x=results[results.test_mse == kn.knee_y].index[0], color='k', linestyle='--', label='Knee Locator')\n",
    "except ValueError: pass\n",
    "\n",
    "ax.plot(results.name, results.test_mse,  label='Model Performance on test data')\n",
    "\n",
    "plt.axline((0, mse_with_Visible_groups), (1, mse_with_Visible_groups), color = 'r', ls=':', linewidth = 2, label = 'MSE(before) - Visible Groups')\n",
    "\n",
    "ax.tick_params(axis='x', labelsize=12)\n",
    "ax.tick_params(axis='y', labelsize=12)\n",
    "ax.legend()\n",
    "ax.set_title(\"Shapley Value Explainer: K-Means Clustering\", fontsize = 16, y = 1.02)\n",
    "ax.set_xlabel('\\nN Clusters', fontsize = 14)\n",
    "ax.set_ylabel(\"Mean Squared Error (MSE)\", fontsize = 14)\n",
    "plt.tight_layout(pad = 2)\n",
    "plt.show()"
   ]
  },
  {
   "cell_type": "code",
   "execution_count": 15,
   "id": "e08a6899",
   "metadata": {},
   "outputs": [
    {
     "data": {
      "text/plain": [
       "32.07"
      ]
     },
     "execution_count": 15,
     "metadata": {},
     "output_type": "execute_result"
    }
   ],
   "source": [
    "end = time.time()\n",
    "np.round((end-start),2)"
   ]
  },
  {
   "cell_type": "code",
   "execution_count": 16,
   "id": "983908c0-9e1f-4147-a8d4-a2c8efb578d3",
   "metadata": {},
   "outputs": [
    {
     "name": "stdout",
     "output_type": "stream",
     "text": [
      "Clustered groups \n",
      "\n",
      "0  :  [42, 80, 81, 82, 83, 84, 85, 86, 87, 88, 89, 90, 91, 92, 93, 94, 95, 96, 97, 98, 99, 100, 101, 102, 103, 104, 105, 106, 107, 108, 109, 110, 111, 112, 113, 114, 115, 116, 117, 118, 119, 127] \n",
      "\n",
      "1  :  [160, 161, 162, 163, 164, 165, 166, 168, 169, 170, 171, 173, 174, 175, 176, 177, 178, 179, 180, 181, 182, 183, 184, 185, 186, 187, 188, 189, 190, 191, 192, 193, 194, 195, 196, 197, 198, 199] \n",
      "\n",
      "2  :  [1, 2, 3, 4, 5, 6, 7, 8, 9, 10, 11, 12, 13, 14, 15, 16, 17, 18, 20, 21, 22, 23, 24, 25, 26, 27, 28, 29, 30, 31, 32, 33, 34, 35, 36, 37, 38, 39] \n",
      "\n",
      "3  :  [120, 121, 122, 123, 124, 125, 126, 128, 129, 130, 131, 132, 133, 134, 135, 136, 137, 138, 139, 140, 141, 142, 143, 144, 145, 146, 147, 148, 149, 150, 151, 152, 153, 154, 155, 156, 157, 158, 159, 167, 172] \n",
      "\n",
      "4  :  [0, 19, 40, 41, 43, 44, 45, 46, 47, 48, 49, 50, 51, 52, 53, 54, 55, 56, 57, 58, 59, 60, 61, 62, 63, 64, 65, 66, 67, 68, 69, 70, 71, 72, 73, 74, 75, 76, 77, 78, 79] \n",
      "\n"
     ]
    }
   ],
   "source": [
    "data = get_reduced_data(pca_df, 'K-5')\n",
    "print(\"Clustered groups \\n\")\n",
    "\n",
    "zone_indices_optics = {zone : list(np.unique(data[data['gE_new'] == zone]['gV'])) for zone in np.unique(data.gE_new)}\n",
    "for i in np.unique(data.gE_new):\n",
    "    print(i,\" : \",zone_indices_optics[i],'\\n')"
   ]
  },
  {
   "cell_type": "code",
   "execution_count": 17,
   "id": "e5a20266-a436-4722-b8fb-086d54c8be18",
   "metadata": {},
   "outputs": [
    {
     "name": "stdout",
     "output_type": "stream",
     "text": [
      "Original Group Memberships \n",
      "\n",
      "0  :  [0, 1, 2, 3, 4, 5, 6, 7, 8, 9, 10, 11, 12, 13, 14, 15, 16, 17, 18, 19, 20, 21, 22, 23, 24, 25, 26, 27, 28, 29, 30, 31, 32, 33, 34, 35, 36, 37, 38, 39] \n",
      "\n",
      "1  :  [40, 41, 42, 43, 44, 45, 46, 47, 48, 49, 50, 51, 52, 53, 54, 55, 56, 57, 58, 59, 60, 61, 62, 63, 64, 65, 66, 67, 68, 69, 70, 71, 72, 73, 74, 75, 76, 77, 78, 79] \n",
      "\n",
      "2  :  [80, 81, 82, 83, 84, 85, 86, 87, 88, 89, 90, 91, 92, 93, 94, 95, 96, 97, 98, 99, 100, 101, 102, 103, 104, 105, 106, 107, 108, 109, 110, 111, 112, 113, 114, 115, 116, 117, 118, 119] \n",
      "\n",
      "3  :  [120, 121, 122, 123, 124, 125, 126, 127, 128, 129, 130, 131, 132, 133, 134, 135, 136, 137, 138, 139, 140, 141, 142, 143, 144, 145, 146, 147, 148, 149, 150, 151, 152, 153, 154, 155, 156, 157, 158, 159] \n",
      "\n",
      "4  :  [160, 161, 162, 163, 164, 165, 166, 167, 168, 169, 170, 171, 172, 173, 174, 175, 176, 177, 178, 179, 180, 181, 182, 183, 184, 185, 186, 187, 188, 189, 190, 191, 192, 193, 194, 195, 196, 197, 198, 199] \n",
      "\n"
     ]
    }
   ],
   "source": [
    "print(\"Original Group Memberships \\n\")\n",
    "zone_indices_actual = {zone : list(np.unique(df[df['gE'] == zone]['gV'])) for zone in np.unique(df.gE)}\n",
    "for i in np.unique(df.gE):\n",
    "    print(i,\" : \",zone_indices_actual[i],'\\n')"
   ]
  }
 ],
 "metadata": {
  "kernelspec": {
   "display_name": "Python (thesis_harshal)",
   "language": "python",
   "name": "thesis_harshal"
  },
  "language_info": {
   "codemirror_mode": {
    "name": "ipython",
    "version": 3
   },
   "file_extension": ".py",
   "mimetype": "text/x-python",
   "name": "python",
   "nbconvert_exporter": "python",
   "pygments_lexer": "ipython3",
   "version": "3.11.5"
  }
 },
 "nbformat": 4,
 "nbformat_minor": 5
}
