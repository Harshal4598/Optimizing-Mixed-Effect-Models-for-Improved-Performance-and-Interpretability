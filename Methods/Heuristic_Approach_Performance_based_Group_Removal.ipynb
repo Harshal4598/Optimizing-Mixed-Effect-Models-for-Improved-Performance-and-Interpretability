{
 "cells": [
  {
   "cell_type": "markdown",
   "id": "d85aeeee-f1a0-4677-8294-e46c6cce17a3",
   "metadata": {},
   "source": [
    "## Heuristic Approach using Performance-based Group Removal"
   ]
  },
  {
   "cell_type": "markdown",
   "id": "79e8d862-5810-4390-bc33-1c5158eb67ec",
   "metadata": {},
   "source": [
    "#### In each iteration, one group element will be removed that does not belong to the subset. To eliminate a group, the function one by one eliminates a group and evaluates the performance and the one with the lowest performance will be selected."
   ]
  },
  {
   "cell_type": "code",
   "execution_count": 1,
   "id": "a3b5ebf2",
   "metadata": {},
   "outputs": [],
   "source": [
    "import os\n",
    "os.chdir(\"..\")"
   ]
  },
  {
   "cell_type": "code",
   "execution_count": 2,
   "id": "4ed4c833",
   "metadata": {},
   "outputs": [
    {
     "name": "stdout",
     "output_type": "stream",
     "text": [
      "WARNING:tensorflow:From C:\\Users\\htals\\AppData\\Roaming\\Python\\Python311\\site-packages\\keras\\src\\losses.py:2976: The name tf.losses.sparse_softmax_cross_entropy is deprecated. Please use tf.compat.v1.losses.sparse_softmax_cross_entropy instead.\n",
      "\n",
      "WARNING:tensorflow:From C:\\Users\\htals\\AppData\\Roaming\\Python\\Python311\\site-packages\\tensorflow_probability\\python\\internal\\backend\\numpy\\_utils.py:48: The name tf.logging.TaskLevelStatusMessage is deprecated. Please use tf.compat.v1.logging.TaskLevelStatusMessage instead.\n",
      "\n"
     ]
    },
    {
     "name": "stderr",
     "output_type": "stream",
     "text": [
      "WARNING  [module_wrapper.py:149] From C:\\Users\\htals\\AppData\\Roaming\\Python\\Python311\\site-packages\\tensorflow_probability\\python\\internal\\backend\\numpy\\_utils.py:48: The name tf.logging.TaskLevelStatusMessage is deprecated. Please use tf.compat.v1.logging.TaskLevelStatusMessage instead.\n",
      "\n"
     ]
    },
    {
     "name": "stdout",
     "output_type": "stream",
     "text": [
      "WARNING:tensorflow:From C:\\Users\\htals\\AppData\\Roaming\\Python\\Python311\\site-packages\\tensorflow_probability\\python\\internal\\backend\\numpy\\_utils.py:48: The name tf.control_flow_v2_enabled is deprecated. Please use tf.compat.v1.control_flow_v2_enabled instead.\n",
      "\n"
     ]
    },
    {
     "name": "stderr",
     "output_type": "stream",
     "text": [
      "WARNING  [module_wrapper.py:149] From C:\\Users\\htals\\AppData\\Roaming\\Python\\Python311\\site-packages\\tensorflow_probability\\python\\internal\\backend\\numpy\\_utils.py:48: The name tf.control_flow_v2_enabled is deprecated. Please use tf.compat.v1.control_flow_v2_enabled instead.\n",
      "\n",
      "C:\\Users\\htals\\AppData\\Roaming\\Python\\Python311\\site-packages\\tensorflow_addons\\utils\\tfa_eol_msg.py:23: UserWarning: \n",
      "\n",
      "TensorFlow Addons (TFA) has ended development and introduction of new features.\n",
      "TFA has entered a minimal maintenance and release mode until a planned end of life in May 2024.\n",
      "Please modify downstream libraries to take dependencies from other repositories in our TensorFlow community (e.g. Keras, Keras-CV, and Keras-NLP). \n",
      "\n",
      "For more information see: https://github.com/tensorflow/addons/issues/2807 \n",
      "\n",
      "  warnings.warn(\n",
      "C:\\Users\\htals\\AppData\\Roaming\\Python\\Python311\\site-packages\\tensorflow_addons\\utils\\ensure_tf_install.py:53: UserWarning: Tensorflow Addons supports using Python ops for all Tensorflow versions above or equal to 2.12.0 and strictly below 2.15.0 (nightly versions are not supported). \n",
      " The versions of TensorFlow you are currently using is 2.15.0 and is not supported. \n",
      "Some things might work, some things might not.\n",
      "If you were to encounter a bug, do not file an issue.\n",
      "If you want to make sure you're using a tested and supported configuration, either change the TensorFlow version or the TensorFlow Addons's version. \n",
      "You can find the compatibility matrix in TensorFlow Addon's readme:\n",
      "https://github.com/tensorflow/addons\n",
      "  warnings.warn(\n"
     ]
    },
    {
     "name": "stdout",
     "output_type": "stream",
     "text": [
      "WARNING:tensorflow:From C:\\Users\\htals\\AppData\\Roaming\\Python\\Python311\\site-packages\\keras\\src\\utils\\tf_utils.py:585: The name tf.executing_eagerly_outside_functions is deprecated. Please use tf.compat.v1.executing_eagerly_outside_functions instead.\n",
      "\n"
     ]
    },
    {
     "name": "stderr",
     "output_type": "stream",
     "text": [
      "WARNING  [module_wrapper.py:149] From C:\\Users\\htals\\AppData\\Roaming\\Python\\Python311\\site-packages\\keras\\src\\utils\\tf_utils.py:585: The name tf.executing_eagerly_outside_functions is deprecated. Please use tf.compat.v1.executing_eagerly_outside_functions instead.\n",
      "\n",
      "WARNING  [optimizer.py:123] `lr` is deprecated in Keras optimizer, please use `learning_rate` or use the legacy optimizer, e.g.,tf.keras.optimizers.legacy.Adam.\n",
      "WARNING  [optimizer.py:123] `lr` is deprecated in Keras optimizer, please use `learning_rate` or use the legacy optimizer, e.g.,tf.keras.optimizers.legacy.Adam.\n",
      "C:\\Users\\htals\\AppData\\Roaming\\Python\\Python311\\site-packages\\keras\\src\\optimizers\\legacy\\adam.py:118: UserWarning: The `lr` argument is deprecated, use `learning_rate` instead.\n",
      "  super().__init__(name, **kwargs)\n"
     ]
    }
   ],
   "source": [
    "import time\n",
    "import pandas as pd\n",
    "import numpy as np\n",
    "import matplotlib.pyplot as plt\n",
    "import seaborn as sns\n",
    "from itertools import product\n",
    "\n",
    "from utils.Thesis_models import *\n",
    "from utils import Thesis_viz as viz\n",
    "from utils import synthetic_data_generation as sd"
   ]
  },
  {
   "cell_type": "code",
   "execution_count": 3,
   "id": "302d5589",
   "metadata": {},
   "outputs": [],
   "source": [
    "def run_model(model, all_args):\n",
    "    arg_names = model.__code__.co_varnames[:model.__code__.co_argcount]\n",
    "    model_args = {k: all_args[k] for k in arg_names if k in all_args}\n",
    "    return model(**model_args)\n",
    "\n",
    "def get_space_combinations(arr):\n",
    "    result = []\n",
    "    for i in range(len(arr)):\n",
    "        new_arr = arr[:i] + arr[i+1:]\n",
    "        result.append(new_arr)\n",
    "    return result\n",
    "\n",
    "def find_best_pair(current_array):\n",
    "    \n",
    "    array = current_array\n",
    "    space_combinations = get_space_combinations(array)\n",
    "    \n",
    "    possible_combinations_from_array = []\n",
    "    for pair in space_combinations:\n",
    "        excluded_elements = set()\n",
    "        if final_best_pairs:\n",
    "            for sub_pair in final_best_pairs:\n",
    "                excluded_elements.update(sub_pair)\n",
    "        excluded_elements.update(pair)\n",
    "        possible_combinations_from_array.append((tuple(pair),) + tuple((i,) for i in initial_array \\\n",
    "                                                                       if i not in excluded_elements) +\n",
    "                                                tuple(final_best_pairs))\n",
    "\n",
    "    current_search_dict = {}\n",
    "    for input_combination in possible_combinations_from_array:\n",
    "    \n",
    "        zone_indices = {index: list(inner_tuple) for index, inner_tuple in enumerate(input_combination)}\n",
    "        mapping_dict = {value: key for key, values in zone_indices.items() for value in values}\n",
    "\n",
    "        data = df.copy()\n",
    "        data.drop(['gE', 'gV'], axis=1, inplace=True)\n",
    "        data['gE_new'] = df['gV'].map(mapping_dict)\n",
    "#         mse = MERForest(data, threshold = 0.1)[0]\n",
    "        \n",
    "        try:\n",
    "            mse = run_model(Model, {'df': data, 'mode': mode})[0]\n",
    "        except np.linalg.LinAlgError:\n",
    "            print(f\"Singular Matrix error with MixedLM Model, continuing with MERF, hence Performance may affect.\")\n",
    "#             mse = np.nan\n",
    "            mse = run_model(MERForest, {'df': df,'mode':mode,'to_drop':'gV'})[0]\n",
    "    \n",
    "        current_search_dict[input_combination] = mse\n",
    "        \n",
    "    min_value_key = min(current_search_dict, key=current_search_dict.get)\n",
    "\n",
    "    return min_value_key, current_search_dict[min_value_key]\n",
    "\n",
    "def individual_pair_mse_calculation(input_combination):\n",
    "    \n",
    "    zone_indices = {index: list(inner_tuple) for index, inner_tuple in enumerate(input_combination)}\n",
    "    mapping_dict = {value: key for key, values in zone_indices.items() for value in values}\n",
    "    \n",
    "    data = df.copy()\n",
    "    data.drop(['gE', 'gV'], axis=1, inplace=True)\n",
    "    data['gE_new'] = df['gV'].map(mapping_dict)\n",
    "#     mse = MERForest(data, threshold = 0.1)[0]\n",
    "    try:\n",
    "        mse = run_model(Model, {'df': data, 'mode': mode})[0]\n",
    "    except np.linalg.LinAlgError:\n",
    "        print(f\"Singular Matrix error with MixedLM Model, continuing with MERF, hence Performance may affect.\")\n",
    "#         mse = np.nan\n",
    "        mse = run_model(MERForest, {'df': df,'mode':mode,'to_drop':'gV'})[0]\n",
    "    \n",
    "    input_combination_tuple = tuple(tuple(sublist) for sublist in input_combination)\n",
    "    \n",
    "    return {input_combination_tuple: mse}\n",
    "\n",
    "def update_current_best_combination(tuple_array):\n",
    "    length_one = [t[0] for t in tuple_array if len(t) == 1]\n",
    "    others = [t for t in tuple_array if len(t) > 1]\n",
    "\n",
    "    combined = tuple(np.sort(length_one))\n",
    "    return combined"
   ]
  },
  {
   "cell_type": "markdown",
   "id": "273def28-5273-4e07-8ed0-c8d5b0331dbf",
   "metadata": {},
   "source": [
    "### Synthetic data parameters"
   ]
  },
  {
   "cell_type": "code",
   "execution_count": 4,
   "id": "a45adc50-d8ba-45cd-a605-1a1bb0d9d3ae",
   "metadata": {},
   "outputs": [],
   "source": [
    "seed = 50\n",
    "mode = 'both'\n",
    "effective_groups = 3\n",
    "visible_groups = 10\n",
    "number_of_contineous_features = 5\n",
    "\n",
    "# random_effects_distribution = 'normal'; re_intercept = (0,5) ; re_slope = (0,5)\n",
    "random_effects_distribution = 'linspace'; re_intercept = (-10,10) ; re_slope = (-10,10)\n",
    "\n",
    "# error_type = 'on_group' ; re_error = (0,3)\n",
    "error_type = 'on_target' ; re_error = (0,3)\n",
    "\n",
    "shuffle_groups = True"
   ]
  },
  {
   "cell_type": "markdown",
   "id": "9331a941-0c42-4665-bd2f-0a81db00519d",
   "metadata": {},
   "source": [
    "### Synthetic data generation"
   ]
  },
  {
   "cell_type": "code",
   "execution_count": 5,
   "id": "0fd1ac05",
   "metadata": {},
   "outputs": [
    {
     "data": {
      "text/html": [
       "<div>\n",
       "<style scoped>\n",
       "    .dataframe tbody tr th:only-of-type {\n",
       "        vertical-align: middle;\n",
       "    }\n",
       "\n",
       "    .dataframe tbody tr th {\n",
       "        vertical-align: top;\n",
       "    }\n",
       "\n",
       "    .dataframe thead th {\n",
       "        text-align: right;\n",
       "    }\n",
       "</style>\n",
       "<table border=\"1\" class=\"dataframe\">\n",
       "  <thead>\n",
       "    <tr style=\"text-align: right;\">\n",
       "      <th></th>\n",
       "      <th>f0</th>\n",
       "      <th>f1</th>\n",
       "      <th>f2</th>\n",
       "      <th>f3</th>\n",
       "      <th>f4</th>\n",
       "      <th>gE</th>\n",
       "      <th>gV</th>\n",
       "      <th>y</th>\n",
       "    </tr>\n",
       "  </thead>\n",
       "  <tbody>\n",
       "    <tr>\n",
       "      <th>0</th>\n",
       "      <td>-0.010797</td>\n",
       "      <td>-0.543834</td>\n",
       "      <td>-0.489052</td>\n",
       "      <td>-0.207340</td>\n",
       "      <td>-0.245370</td>\n",
       "      <td>1</td>\n",
       "      <td>9</td>\n",
       "      <td>-6.673096</td>\n",
       "    </tr>\n",
       "    <tr>\n",
       "      <th>1</th>\n",
       "      <td>0.993148</td>\n",
       "      <td>-0.183606</td>\n",
       "      <td>0.543788</td>\n",
       "      <td>0.521073</td>\n",
       "      <td>-0.379981</td>\n",
       "      <td>1</td>\n",
       "      <td>9</td>\n",
       "      <td>-25.970612</td>\n",
       "    </tr>\n",
       "    <tr>\n",
       "      <th>2</th>\n",
       "      <td>-0.306918</td>\n",
       "      <td>-0.296470</td>\n",
       "      <td>-0.709066</td>\n",
       "      <td>0.945329</td>\n",
       "      <td>0.818357</td>\n",
       "      <td>1</td>\n",
       "      <td>9</td>\n",
       "      <td>-10.872763</td>\n",
       "    </tr>\n",
       "    <tr>\n",
       "      <th>3</th>\n",
       "      <td>0.119914</td>\n",
       "      <td>-0.372819</td>\n",
       "      <td>0.776400</td>\n",
       "      <td>0.349146</td>\n",
       "      <td>-0.217825</td>\n",
       "      <td>1</td>\n",
       "      <td>9</td>\n",
       "      <td>-22.960532</td>\n",
       "    </tr>\n",
       "    <tr>\n",
       "      <th>4</th>\n",
       "      <td>0.014368</td>\n",
       "      <td>0.048207</td>\n",
       "      <td>0.856002</td>\n",
       "      <td>0.142746</td>\n",
       "      <td>0.336675</td>\n",
       "      <td>1</td>\n",
       "      <td>9</td>\n",
       "      <td>-16.004217</td>\n",
       "    </tr>\n",
       "    <tr>\n",
       "      <th>...</th>\n",
       "      <td>...</td>\n",
       "      <td>...</td>\n",
       "      <td>...</td>\n",
       "      <td>...</td>\n",
       "      <td>...</td>\n",
       "      <td>...</td>\n",
       "      <td>...</td>\n",
       "      <td>...</td>\n",
       "    </tr>\n",
       "    <tr>\n",
       "      <th>995</th>\n",
       "      <td>-0.033881</td>\n",
       "      <td>0.289258</td>\n",
       "      <td>-0.238024</td>\n",
       "      <td>-0.035100</td>\n",
       "      <td>-0.829667</td>\n",
       "      <td>2</td>\n",
       "      <td>5</td>\n",
       "      <td>-5.274367</td>\n",
       "    </tr>\n",
       "    <tr>\n",
       "      <th>996</th>\n",
       "      <td>-0.738472</td>\n",
       "      <td>0.534579</td>\n",
       "      <td>0.588378</td>\n",
       "      <td>0.741214</td>\n",
       "      <td>-0.074996</td>\n",
       "      <td>2</td>\n",
       "      <td>5</td>\n",
       "      <td>24.974086</td>\n",
       "    </tr>\n",
       "    <tr>\n",
       "      <th>997</th>\n",
       "      <td>-0.348035</td>\n",
       "      <td>0.139808</td>\n",
       "      <td>-0.035477</td>\n",
       "      <td>0.023636</td>\n",
       "      <td>0.497246</td>\n",
       "      <td>2</td>\n",
       "      <td>5</td>\n",
       "      <td>10.379350</td>\n",
       "    </tr>\n",
       "    <tr>\n",
       "      <th>998</th>\n",
       "      <td>-0.073908</td>\n",
       "      <td>-0.417275</td>\n",
       "      <td>0.667721</td>\n",
       "      <td>-0.814868</td>\n",
       "      <td>-0.946318</td>\n",
       "      <td>2</td>\n",
       "      <td>5</td>\n",
       "      <td>-4.199309</td>\n",
       "    </tr>\n",
       "    <tr>\n",
       "      <th>999</th>\n",
       "      <td>-0.601141</td>\n",
       "      <td>0.024799</td>\n",
       "      <td>0.841575</td>\n",
       "      <td>0.816472</td>\n",
       "      <td>0.056941</td>\n",
       "      <td>2</td>\n",
       "      <td>5</td>\n",
       "      <td>25.462997</td>\n",
       "    </tr>\n",
       "  </tbody>\n",
       "</table>\n",
       "<p>1000 rows × 8 columns</p>\n",
       "</div>"
      ],
      "text/plain": [
       "           f0        f1        f2        f3        f4  gE  gV          y\n",
       "0   -0.010797 -0.543834 -0.489052 -0.207340 -0.245370   1   9  -6.673096\n",
       "1    0.993148 -0.183606  0.543788  0.521073 -0.379981   1   9 -25.970612\n",
       "2   -0.306918 -0.296470 -0.709066  0.945329  0.818357   1   9 -10.872763\n",
       "3    0.119914 -0.372819  0.776400  0.349146 -0.217825   1   9 -22.960532\n",
       "4    0.014368  0.048207  0.856002  0.142746  0.336675   1   9 -16.004217\n",
       "..        ...       ...       ...       ...       ...  ..  ..        ...\n",
       "995 -0.033881  0.289258 -0.238024 -0.035100 -0.829667   2   5  -5.274367\n",
       "996 -0.738472  0.534579  0.588378  0.741214 -0.074996   2   5  24.974086\n",
       "997 -0.348035  0.139808 -0.035477  0.023636  0.497246   2   5  10.379350\n",
       "998 -0.073908 -0.417275  0.667721 -0.814868 -0.946318   2   5  -4.199309\n",
       "999 -0.601141  0.024799  0.841575  0.816472  0.056941   2   5  25.462997\n",
       "\n",
       "[1000 rows x 8 columns]"
      ]
     },
     "execution_count": 5,
     "metadata": {},
     "output_type": "execute_result"
    }
   ],
   "source": [
    "df,_ = sd.create_data(\n",
    "    n = 1000,\n",
    "    n_effective_groups = effective_groups,\n",
    "    n_visible_groups = visible_groups,\n",
    "    n_contineous_features = 5,\n",
    "    mode = mode,\n",
    "    fixed_slope = (0, 1),\n",
    "    fixed_intercept = 0,\n",
    "    fixed_error=(0, 1),\n",
    "    random_effects_distribution = random_effects_distribution,\n",
    "    re_intercept = (-10, 10),\n",
    "    re_slope = (-10, 10),\n",
    "    error_type = error_type,\n",
    "    re_error = (0, 3),\n",
    "    random_seed = seed,\n",
    "    shuffle_groups = shuffle_groups,\n",
    "    show_random_effects = False\n",
    ")\n",
    "df"
   ]
  },
  {
   "cell_type": "markdown",
   "id": "9a704cc2-ea1a-406d-a40a-cce3339bf139",
   "metadata": {},
   "source": [
    "### Choose a model"
   ]
  },
  {
   "cell_type": "code",
   "execution_count": 6,
   "id": "6fef7152",
   "metadata": {},
   "outputs": [],
   "source": [
    "# [MixedLM, LMMNN, LinearOHE, MERForest, ARMED]\n",
    "Model = MERForest"
   ]
  },
  {
   "cell_type": "markdown",
   "id": "4daf33ac-fc26-41c9-b47f-62567d4202d0",
   "metadata": {},
   "source": [
    "### Model Performance with Effective Groups and Visible Groups"
   ]
  },
  {
   "cell_type": "code",
   "execution_count": 7,
   "id": "34c02f91",
   "metadata": {},
   "outputs": [
    {
     "name": "stdout",
     "output_type": "stream",
     "text": [
      "MSE_Effective_groups:  19.2800659060457\n",
      "MSE_Visible_groups:  32.97985580095339\n"
     ]
    }
   ],
   "source": [
    "mse_with_Effective_groups = run_model(Model, {'df': df,'mode':mode,'to_drop':'gV'})[0]\n",
    "mse_with_Visible_groups = run_model(Model, {'df': df,'mode':mode,'to_drop':'gE'})[0]\n",
    "print(\"MSE_Effective_groups: \", mse_with_Effective_groups)\n",
    "print(\"MSE_Visible_groups: \", mse_with_Visible_groups)"
   ]
  },
  {
   "cell_type": "markdown",
   "id": "13347ce8-4047-4b2b-8add-82fbbb042a7c",
   "metadata": {},
   "source": [
    "### Algorithm"
   ]
  },
  {
   "cell_type": "code",
   "execution_count": 8,
   "id": "63b45e43",
   "metadata": {},
   "outputs": [
    {
     "name": "stdout",
     "output_type": "stream",
     "text": [
      "(((9, 3, 1, 7, 8, 0, 2, 4, 5), (6,)), 130.1045225524992)\n",
      "(((9, 3, 1, 7, 8, 0, 2, 5), (6,), (4,)), 93.41513806565763)\n",
      "(((9, 3, 1, 7, 8, 0, 2), (6,), (4,), (5,)), 65.5367929888137)\n",
      "(((9, 3, 1, 7, 0, 2), (8,), (6,), (4,), (5,)), 59.153910876601664)\n",
      "(((9, 3, 1, 7, 2), (8,), (0,), (6,), (4,), (5,)), 41.128040651542975)\n",
      "(((9, 3, 1, 7), (8,), (0,), (2,), (6,), (4,), (5,)), 19.317381687724023)\n",
      "(((3, 1, 7), (9,), (8,), (0,), (2,), (6,), (4,), (5,)), 19.380953366352163)\n",
      "(((3, 1), (9,), (7,), (8,), (0,), (2,), (6,), (4,), (5,)), 19.65356025720833)\n",
      "\n",
      " {((0, 2, 4, 5, 6, 8), (9, 3, 1, 7)): 57.276477415819365}\n",
      "(((0, 2, 4, 5, 8), (6,), (9, 3, 1, 7)), 50.48312053745511)\n",
      "(((0, 2, 5, 8), (6,), (4,), (9, 3, 1, 7)), 34.50475239646035)\n",
      "(((0, 2, 8), (6,), (4,), (5,), (9, 3, 1, 7)), 19.654056207299398)\n",
      "(((0, 8), (2,), (6,), (4,), (5,), (9, 3, 1, 7)), 19.53014327412754)\n",
      "\n",
      " {((2, 4, 5, 6), (9, 3, 1, 7), (0, 8)): 37.78639131805605}\n",
      "(((4, 5, 6), (2,), (9, 3, 1, 7), (0, 8)), 20.726274655117194)\n",
      "(((4, 6), (2,), (5,), (9, 3, 1, 7), (0, 8)), 22.635833343477678)\n",
      "\n",
      " {((2,), (9, 3, 1, 7), (0, 8), (4, 5, 6)): 20.900272173836537}\n",
      "\n",
      "\n",
      "((9, 3, 1, 7, 2), (0, 8), (4, 5, 6)) 41.03318785689601\n",
      "((9, 3, 1, 7), (0, 8, 2), (4, 5, 6)) 19.4203798449015\n",
      "((9, 3, 1, 7), (0, 8), (4, 5, 6, 2)) 40.484649423338574\n",
      "\n",
      " (((9, 3, 1, 7), (0, 8, 2), (4, 5, 6)), 19.4203798449015)\n",
      "Time took:  167.57 s\n"
     ]
    }
   ],
   "source": [
    "start = time.time()\n",
    "initial_array = list(df.gV.unique())\n",
    "final_best_pairs = []\n",
    "left_out_elements = None\n",
    "current_array = initial_array\n",
    "track = {}\n",
    "\n",
    "while not left_out_elements:\n",
    "    \n",
    "    local_best_mse = np.inf\n",
    "    current_array_result_dict = {}\n",
    "    \n",
    "    while len(current_array) > 2:\n",
    "        \n",
    "        current_pair_with_lowest_mse = find_best_pair(current_array)\n",
    "        print(current_pair_with_lowest_mse)\n",
    "        \n",
    "        current_array_result_dict[current_pair_with_lowest_mse[0]] = current_pair_with_lowest_mse[1]\n",
    "        track[current_pair_with_lowest_mse[0]] = current_pair_with_lowest_mse[1]\n",
    "        \n",
    "        current_array = current_pair_with_lowest_mse[0][0]\n",
    "        \n",
    "    current_mse = current_array_result_dict[min(current_array_result_dict, key=current_array_result_dict.get)]    \n",
    "    local_best_mse_combination = min(current_array_result_dict, key=current_array_result_dict.get)\n",
    "    local_best_mse = current_mse\n",
    "    final_best_pairs.append(min(current_array_result_dict, key=current_array_result_dict.get)[0])\n",
    "    \n",
    "    current_array = update_current_best_combination(min(current_array_result_dict, key=current_array_result_dict.get))\n",
    "    \n",
    "    local_best_mse_pair = individual_pair_mse_calculation((tuple(current_array),) + tuple(final_best_pairs))\n",
    "    \n",
    "    track.update(local_best_mse_pair)\n",
    "    print(\"\\n\",individual_pair_mse_calculation((tuple(current_array),) + tuple(final_best_pairs)))\n",
    "    \n",
    "    if len(current_array) <=2:\n",
    "        left_out_elements = current_array\n",
    "#         break\n",
    "\n",
    "# Calculation for left outputs:\n",
    "\n",
    "left_out_results_dict = {}\n",
    "combinations = list(product(range(len(final_best_pairs)), repeat=len(left_out_elements)))\n",
    "pairs_to_compute = []\n",
    "for combo in combinations:\n",
    "    temp_array = [list(t) for t in final_best_pairs]\n",
    "    for i, idx in enumerate(combo):\n",
    "        temp_array[idx].append(left_out_elements[i])\n",
    "    pairs_to_compute.append(temp_array)\n",
    "\n",
    "for pair in pairs_to_compute:\n",
    "    pair_mse_dict = individual_pair_mse_calculation(pair)\n",
    "    track.update(pair_mse_dict)\n",
    "    left_out_results_dict.update(pair_mse_dict)\n",
    "\n",
    "print(\"\\n\")\n",
    "for key, value in left_out_results_dict.items():\n",
    "    print(key, value)\n",
    "    \n",
    "best_from_left_out_results_dict = (min(left_out_results_dict, key=left_out_results_dict.get), \\\n",
    "                                 left_out_results_dict[min(left_out_results_dict, key=left_out_results_dict.get)])\n",
    "\n",
    "best_from_local_best_mse_pair = (min(local_best_mse_pair, key=local_best_mse_pair.get), \\\n",
    "                                 local_best_mse_pair[min(local_best_mse_pair, key=local_best_mse_pair.get)])\n",
    "\n",
    "if best_from_left_out_results_dict[1] < best_from_local_best_mse_pair[1]:\n",
    "    print(\"\\n\",best_from_left_out_results_dict)\n",
    "    chosen_pair = best_from_left_out_results_dict\n",
    "else:\n",
    "    print(\"\\n\",best_from_local_best_mse_pair)\n",
    "    chosen_pair = best_from_local_best_mse_pair\n",
    "end = time.time()\n",
    "print(\"Time took: \", np.round((end-start),2),\"s\")"
   ]
  },
  {
   "cell_type": "code",
   "execution_count": 9,
   "id": "c3a46155",
   "metadata": {},
   "outputs": [
    {
     "data": {
      "image/png": "[encoded data removed]",
      "text/plain": [
       "<Figure size 700x500 with 1 Axes>"
      ]
     },
     "metadata": {},
     "output_type": "display_data"
    }
   ],
   "source": [
    "fig, ax = plt.subplots(figsize = (7,5), dpi = 100)\n",
    "track_df = pd.DataFrame({'mse':track.values(), 'pair':track.keys()})\n",
    "track_df['eff'] = [len(i) for i in track_df.pair]\n",
    "to_break = len(pairs_to_compute)\n",
    "\n",
    "ax.plot(track_df.head(len(track_df) - to_break).mse, label = 'Until best subsets found')\n",
    "ax.plot(track_df.tail(to_break).mse, label = 'Remaining elements combination')\n",
    "ax.scatter(track_df[track_df.mse == chosen_pair[1]].index[0], chosen_pair[1], color = 'r', s = 70)\n",
    "ax.axline((0, mse_with_Visible_groups), (10, mse_with_Visible_groups), color = 'k', ls=':', \\\n",
    "          linewidth = 2, label = 'MSE(before) - Visible Groups')\n",
    "\n",
    "ax.set_xlabel(\"Iterations\", fontsize = 14)\n",
    "ax.set_xticks(range(0,len(track_df)+1, 4))\n",
    "ax.tick_params(axis='x', labelsize=12)\n",
    "\n",
    "ax.set_ylabel(\"Mean Squared Error (MSE)\", fontsize = 14)\n",
    "ax.tick_params(axis='y', labelsize=12)\n",
    "ax.set_title(\"Heuristic Approach - Performance-Based Group Removal\", fontsize = 14, y = 1.02)\n",
    "ax.legend()\n",
    "# plt.savefig(r\"Figures\\Heruristic_Performance_based_algorithm.pdf\", format = 'pdf',bbox_inches='tight')\n",
    "plt.show()"
   ]
  },
  {
   "cell_type": "markdown",
   "id": "865ebc3c-fff5-4d42-8c25-d9b8d4441bf9",
   "metadata": {},
   "source": [
    "### Optimal clustering of groups of Synthetic data"
   ]
  },
  {
   "cell_type": "code",
   "execution_count": 10,
   "id": "8055e8e7",
   "metadata": {},
   "outputs": [
    {
     "name": "stdout",
     "output_type": "stream",
     "text": [
      "0  :  [0, 2, 8]\n",
      "1  :  [1, 3, 7, 9]\n",
      "2  :  [4, 5, 6]\n"
     ]
    }
   ],
   "source": [
    "zone_indices_actual = {zone : list(np.unique(df[df['gE'] == zone]['gV'])) for zone in np.unique(df.gE)}\n",
    "for i in np.unique(df.gE):\n",
    "    print(i,\" : \",zone_indices_actual[i])"
   ]
  },
  {
   "cell_type": "markdown",
   "id": "cee68b6b-346c-4c40-9b59-2060c9e65228",
   "metadata": {},
   "source": [
    "### Combinations found with better performance"
   ]
  },
  {
   "cell_type": "code",
   "execution_count": 11,
   "id": "f68ad12a",
   "metadata": {},
   "outputs": [
    {
     "data": {
      "text/html": [
       "<div>\n",
       "<style scoped>\n",
       "    .dataframe tbody tr th:only-of-type {\n",
       "        vertical-align: middle;\n",
       "    }\n",
       "\n",
       "    .dataframe tbody tr th {\n",
       "        vertical-align: top;\n",
       "    }\n",
       "\n",
       "    .dataframe thead th {\n",
       "        text-align: right;\n",
       "    }\n",
       "</style>\n",
       "<table border=\"1\" class=\"dataframe\">\n",
       "  <thead>\n",
       "    <tr style=\"text-align: right;\">\n",
       "      <th></th>\n",
       "      <th>pair</th>\n",
       "      <th>mse</th>\n",
       "      <th>eff</th>\n",
       "    </tr>\n",
       "  </thead>\n",
       "  <tbody>\n",
       "    <tr>\n",
       "      <th>18</th>\n",
       "      <td>((9, 3, 1, 7), (0, 8, 2), (4, 5, 6))</td>\n",
       "      <td>19.420380</td>\n",
       "      <td>3</td>\n",
       "    </tr>\n",
       "    <tr>\n",
       "      <th>14</th>\n",
       "      <td>((4, 5, 6), (2,), (9, 3, 1, 7), (0, 8))</td>\n",
       "      <td>20.726275</td>\n",
       "      <td>4</td>\n",
       "    </tr>\n",
       "    <tr>\n",
       "      <th>16</th>\n",
       "      <td>((2,), (9, 3, 1, 7), (0, 8), (4, 5, 6))</td>\n",
       "      <td>20.900047</td>\n",
       "      <td>4</td>\n",
       "    </tr>\n",
       "    <tr>\n",
       "      <th>11</th>\n",
       "      <td>((0, 2, 8), (6,), (4,), (5,), (9, 3, 1, 7))</td>\n",
       "      <td>19.654056</td>\n",
       "      <td>5</td>\n",
       "    </tr>\n",
       "    <tr>\n",
       "      <th>15</th>\n",
       "      <td>((4, 6), (2,), (5,), (9, 3, 1, 7), (0, 8))</td>\n",
       "      <td>22.635833</td>\n",
       "      <td>5</td>\n",
       "    </tr>\n",
       "    <tr>\n",
       "      <th>12</th>\n",
       "      <td>((0, 8), (2,), (6,), (4,), (5,), (9, 3, 1, 7))</td>\n",
       "      <td>19.530143</td>\n",
       "      <td>6</td>\n",
       "    </tr>\n",
       "    <tr>\n",
       "      <th>5</th>\n",
       "      <td>((9, 3, 1, 7), (8,), (0,), (2,), (6,), (4,), (...</td>\n",
       "      <td>19.317382</td>\n",
       "      <td>7</td>\n",
       "    </tr>\n",
       "    <tr>\n",
       "      <th>6</th>\n",
       "      <td>((3, 1, 7), (9,), (8,), (0,), (2,), (6,), (4,)...</td>\n",
       "      <td>19.380953</td>\n",
       "      <td>8</td>\n",
       "    </tr>\n",
       "    <tr>\n",
       "      <th>7</th>\n",
       "      <td>((3, 1), (9,), (7,), (8,), (0,), (2,), (6,), (...</td>\n",
       "      <td>19.653560</td>\n",
       "      <td>9</td>\n",
       "    </tr>\n",
       "  </tbody>\n",
       "</table>\n",
       "</div>"
      ],
      "text/plain": [
       "                                                 pair        mse  eff\n",
       "18               ((9, 3, 1, 7), (0, 8, 2), (4, 5, 6))  19.420380    3\n",
       "14            ((4, 5, 6), (2,), (9, 3, 1, 7), (0, 8))  20.726275    4\n",
       "16            ((2,), (9, 3, 1, 7), (0, 8), (4, 5, 6))  20.900047    4\n",
       "11        ((0, 2, 8), (6,), (4,), (5,), (9, 3, 1, 7))  19.654056    5\n",
       "15         ((4, 6), (2,), (5,), (9, 3, 1, 7), (0, 8))  22.635833    5\n",
       "12     ((0, 8), (2,), (6,), (4,), (5,), (9, 3, 1, 7))  19.530143    6\n",
       "5   ((9, 3, 1, 7), (8,), (0,), (2,), (6,), (4,), (...  19.317382    7\n",
       "6   ((3, 1, 7), (9,), (8,), (0,), (2,), (6,), (4,)...  19.380953    8\n",
       "7   ((3, 1), (9,), (7,), (8,), (0,), (2,), (6,), (...  19.653560    9"
      ]
     },
     "execution_count": 11,
     "metadata": {},
     "output_type": "execute_result"
    }
   ],
   "source": [
    "track_df[track_df.mse < mse_with_Visible_groups].sort_values(by=['eff','mse'])[['pair','mse','eff']]"
   ]
  },
  {
   "cell_type": "code",
   "execution_count": 12,
   "id": "524dccf6",
   "metadata": {},
   "outputs": [
    {
     "data": {
      "image/png": "[encoded data removed]",
      "text/plain": [
       "<Figure size 700x500 with 1 Axes>"
      ]
     },
     "metadata": {},
     "output_type": "display_data"
    }
   ],
   "source": [
    "fig, ax = plt.subplots(figsize = (7,5), dpi = 100)\n",
    "found_subsets_combinations = track_df[track_df.mse < mse_with_Visible_groups].sort_values(by='mse')\n",
    "ax.scatter(found_subsets_combinations.eff, found_subsets_combinations.mse)\n",
    "ax.scatter(found_subsets_combinations[found_subsets_combinations['pair'] == chosen_pair[0]].eff, \\\n",
    "            found_subsets_combinations[found_subsets_combinations['pair'] == chosen_pair[0]].mse, \\\n",
    "           label = f\"Selected Combination\\n{str(chosen_pair[0])}\")\n",
    "ax.set_xlabel(\"Number of Subsets per Combiantion\\n(N Clusters)\", fontsize = 14)\n",
    "ax.tick_params(axis='x', labelsize=12)\n",
    "ax.tick_params(axis='y', labelsize=12)\n",
    "ax.set_ylabel(\"Mean Squared Error (MSE)\", fontsize = 14)\n",
    "ax.set_title(\"Combinations found with better performance\", fontsize = 16, y = 1.02)\n",
    "ax.legend(fontsize = 12)\n",
    "plt.tight_layout()\n",
    "# plt.savefig(r\"Figures\\Heruristic_Performance_based_found_combinations.pdf\", format = 'pdf',bbox_inches='tight')\n",
    "plt.show()"
   ]
  },
  {
   "cell_type": "markdown",
   "id": "ef320796-56c4-42f3-95d9-bc16fb1b3f27",
   "metadata": {},
   "source": [
    "### The algorithm found combiantion that has improved the initial MSE with visible groups."
   ]
  }
 ],
 "metadata": {
  "kernelspec": {
   "display_name": "Python 3 (ipykernel)",
   "language": "python",
   "name": "python3"
  },
  "language_info": {
   "codemirror_mode": {
    "name": "ipython",
    "version": 3
   },
   "file_extension": ".py",
   "mimetype": "text/x-python",
   "name": "python",
   "nbconvert_exporter": "python",
   "pygments_lexer": "ipython3",
   "version": "3.11.5"
  }
 },
 "nbformat": 4,
 "nbformat_minor": 5
}
